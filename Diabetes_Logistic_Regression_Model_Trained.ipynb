{
 "cells": [
  {
   "cell_type": "markdown",
   "metadata": {
    "id": "Rq1WGbeawgBI"
   },
   "source": [
    "# Logistic Regression Model with Diabetes Database\n",
    "### Made By: Uriel Baldesco \n",
    "### Dataset from Kaggle"
   ]
  },
  {
   "cell_type": "code",
   "execution_count": 18,
   "metadata": {
    "id": "OabAsyc1wkwu"
   },
   "outputs": [],
   "source": [
    "import os\n",
    "import pandas as pd\n",
    "import numpy as np\n",
    "import matplotlib.pyplot as plt\n",
    "from sklearn.linear_model import LogisticRegression\n",
    "from sklearn.model_selection import train_test_split\n",
    "from sklearn.metrics import log_loss\n",
    "from sklearn.metrics import accuracy_score"
   ]
  },
  {
   "cell_type": "code",
   "execution_count": 2,
   "metadata": {
    "colab": {
     "base_uri": "https://localhost:8080/"
    },
    "id": "QiNXzByEwtqQ",
    "outputId": "d8709a95-4c7d-4496-fbe9-0d525ed4e93d"
   },
   "outputs": [],
   "source": [
    "filename = os.path.join(\"diabetes.csv\")\n",
    "df = pd.read_csv(filename)"
   ]
  },
  {
   "cell_type": "markdown",
   "metadata": {},
   "source": [
    "<b>Looking inside the dataset<b>"
   ]
  },
  {
   "cell_type": "code",
   "execution_count": 3,
   "metadata": {
    "scrolled": false
   },
   "outputs": [
    {
     "name": "stdout",
     "output_type": "stream",
     "text": [
      "first 5 rows:\n",
      "   Pregnancies  Glucose  BloodPressure  SkinThickness  Insulin   BMI  \\\n",
      "0            6      148             72             35        0  33.6   \n",
      "1            1       85             66             29        0  26.6   \n",
      "2            8      183             64              0        0  23.3   \n",
      "3            1       89             66             23       94  28.1   \n",
      "4            0      137             40             35      168  43.1   \n",
      "\n",
      "   DiabetesPedigreeFunction  Age  Outcome  \n",
      "0                     0.627   50        1  \n",
      "1                     0.351   31        0  \n",
      "2                     0.672   32        1  \n",
      "3                     0.167   21        0  \n",
      "4                     2.288   33        1  \n",
      "shape of df:(768, 9)\n",
      "the columns or features:['Pregnancies', 'Glucose', 'BloodPressure', 'SkinThickness', 'Insulin', 'BMI', 'DiabetesPedigreeFunction', 'Age', 'Outcome']\n",
      "\n",
      "\n"
     ]
    },
    {
     "data": {
      "text/plain": [
       "Pregnancies                   int64\n",
       "Glucose                       int64\n",
       "BloodPressure                 int64\n",
       "SkinThickness                 int64\n",
       "Insulin                       int64\n",
       "BMI                         float64\n",
       "DiabetesPedigreeFunction    float64\n",
       "Age                           int64\n",
       "Outcome                       int64\n",
       "dtype: object"
      ]
     },
     "execution_count": 3,
     "metadata": {},
     "output_type": "execute_result"
    }
   ],
   "source": [
    "print(f\"first 5 rows:\\n{df.head(5)}\")\n",
    "print(f\"shape of df:{df.shape}\")\n",
    "print(f\"the columns or features:{list(df.columns)}\")\n",
    "print(\"\\n\")\n",
    "\n",
    "df.dtypes"
   ]
  },
  {
   "cell_type": "markdown",
   "metadata": {},
   "source": [
    "<b>Inspect Data and Check for Imbalance<b>\n",
    "- Is there an imbalance of patients younger and older than 30? No bc there is 51% proportion of younger patients\n",
    "- Is there an imbalance of 0s and 1s values in the Outcome Label?\n",
    "- When the mean > median, then the column is skewed:\n",
    "    * The pregnancies column: mean=3.845052, median=3.000000\n",
    "    * The glucose column: mean=120.894531, median=117.000000\n",
    "    * <b>The insulin column: mean=79.799479, median=30.500000<b>\n",
    "    * The diabetes pedigree function column: mean=0.471876, median=0.372500\t\n",
    "    * The outcome column: mean=0.348958, median=0\n",
    "- Which feature has the highest range?\n",
    "    * The column with most variation: Insulin\n",
    "    * construct a vector of difference using df_summ.loc[] to find diff between max and min columns"
   ]
  },
  {
   "cell_type": "code",
   "execution_count": 4,
   "metadata": {
    "scrolled": true
   },
   "outputs": [
    {
     "data": {
      "text/html": [
       "<div>\n",
       "<style scoped>\n",
       "    .dataframe tbody tr th:only-of-type {\n",
       "        vertical-align: middle;\n",
       "    }\n",
       "\n",
       "    .dataframe tbody tr th {\n",
       "        vertical-align: top;\n",
       "    }\n",
       "\n",
       "    .dataframe thead th {\n",
       "        text-align: right;\n",
       "    }\n",
       "</style>\n",
       "<table border=\"1\" class=\"dataframe\">\n",
       "  <thead>\n",
       "    <tr style=\"text-align: right;\">\n",
       "      <th></th>\n",
       "      <th>Pregnancies</th>\n",
       "      <th>Glucose</th>\n",
       "      <th>BloodPressure</th>\n",
       "      <th>SkinThickness</th>\n",
       "      <th>Insulin</th>\n",
       "      <th>BMI</th>\n",
       "      <th>DiabetesPedigreeFunction</th>\n",
       "      <th>Age</th>\n",
       "      <th>Outcome</th>\n",
       "    </tr>\n",
       "  </thead>\n",
       "  <tbody>\n",
       "    <tr>\n",
       "      <th>count</th>\n",
       "      <td>768.000000</td>\n",
       "      <td>768.000000</td>\n",
       "      <td>768.000000</td>\n",
       "      <td>768.000000</td>\n",
       "      <td>768.000000</td>\n",
       "      <td>768.000000</td>\n",
       "      <td>768.000000</td>\n",
       "      <td>768.000000</td>\n",
       "      <td>768.000000</td>\n",
       "    </tr>\n",
       "    <tr>\n",
       "      <th>mean</th>\n",
       "      <td>3.845052</td>\n",
       "      <td>120.894531</td>\n",
       "      <td>69.105469</td>\n",
       "      <td>20.536458</td>\n",
       "      <td>79.799479</td>\n",
       "      <td>31.992578</td>\n",
       "      <td>0.471876</td>\n",
       "      <td>33.240885</td>\n",
       "      <td>0.348958</td>\n",
       "    </tr>\n",
       "    <tr>\n",
       "      <th>std</th>\n",
       "      <td>3.369578</td>\n",
       "      <td>31.972618</td>\n",
       "      <td>19.355807</td>\n",
       "      <td>15.952218</td>\n",
       "      <td>115.244002</td>\n",
       "      <td>7.884160</td>\n",
       "      <td>0.331329</td>\n",
       "      <td>11.760232</td>\n",
       "      <td>0.476951</td>\n",
       "    </tr>\n",
       "    <tr>\n",
       "      <th>min</th>\n",
       "      <td>0.000000</td>\n",
       "      <td>0.000000</td>\n",
       "      <td>0.000000</td>\n",
       "      <td>0.000000</td>\n",
       "      <td>0.000000</td>\n",
       "      <td>0.000000</td>\n",
       "      <td>0.078000</td>\n",
       "      <td>21.000000</td>\n",
       "      <td>0.000000</td>\n",
       "    </tr>\n",
       "    <tr>\n",
       "      <th>25%</th>\n",
       "      <td>1.000000</td>\n",
       "      <td>99.000000</td>\n",
       "      <td>62.000000</td>\n",
       "      <td>0.000000</td>\n",
       "      <td>0.000000</td>\n",
       "      <td>27.300000</td>\n",
       "      <td>0.243750</td>\n",
       "      <td>24.000000</td>\n",
       "      <td>0.000000</td>\n",
       "    </tr>\n",
       "    <tr>\n",
       "      <th>50%</th>\n",
       "      <td>3.000000</td>\n",
       "      <td>117.000000</td>\n",
       "      <td>72.000000</td>\n",
       "      <td>23.000000</td>\n",
       "      <td>30.500000</td>\n",
       "      <td>32.000000</td>\n",
       "      <td>0.372500</td>\n",
       "      <td>29.000000</td>\n",
       "      <td>0.000000</td>\n",
       "    </tr>\n",
       "    <tr>\n",
       "      <th>75%</th>\n",
       "      <td>6.000000</td>\n",
       "      <td>140.250000</td>\n",
       "      <td>80.000000</td>\n",
       "      <td>32.000000</td>\n",
       "      <td>127.250000</td>\n",
       "      <td>36.600000</td>\n",
       "      <td>0.626250</td>\n",
       "      <td>41.000000</td>\n",
       "      <td>1.000000</td>\n",
       "    </tr>\n",
       "    <tr>\n",
       "      <th>max</th>\n",
       "      <td>17.000000</td>\n",
       "      <td>199.000000</td>\n",
       "      <td>122.000000</td>\n",
       "      <td>99.000000</td>\n",
       "      <td>846.000000</td>\n",
       "      <td>67.100000</td>\n",
       "      <td>2.420000</td>\n",
       "      <td>81.000000</td>\n",
       "      <td>1.000000</td>\n",
       "    </tr>\n",
       "  </tbody>\n",
       "</table>\n",
       "</div>"
      ],
      "text/plain": [
       "       Pregnancies     Glucose  BloodPressure  SkinThickness     Insulin  \\\n",
       "count   768.000000  768.000000     768.000000     768.000000  768.000000   \n",
       "mean      3.845052  120.894531      69.105469      20.536458   79.799479   \n",
       "std       3.369578   31.972618      19.355807      15.952218  115.244002   \n",
       "min       0.000000    0.000000       0.000000       0.000000    0.000000   \n",
       "25%       1.000000   99.000000      62.000000       0.000000    0.000000   \n",
       "50%       3.000000  117.000000      72.000000      23.000000   30.500000   \n",
       "75%       6.000000  140.250000      80.000000      32.000000  127.250000   \n",
       "max      17.000000  199.000000     122.000000      99.000000  846.000000   \n",
       "\n",
       "              BMI  DiabetesPedigreeFunction         Age     Outcome  \n",
       "count  768.000000                768.000000  768.000000  768.000000  \n",
       "mean    31.992578                  0.471876   33.240885    0.348958  \n",
       "std      7.884160                  0.331329   11.760232    0.476951  \n",
       "min      0.000000                  0.078000   21.000000    0.000000  \n",
       "25%     27.300000                  0.243750   24.000000    0.000000  \n",
       "50%     32.000000                  0.372500   29.000000    0.000000  \n",
       "75%     36.600000                  0.626250   41.000000    1.000000  \n",
       "max     67.100000                  2.420000   81.000000    1.000000  "
      ]
     },
     "execution_count": 4,
     "metadata": {},
     "output_type": "execute_result"
    }
   ],
   "source": [
    "df.describe(include='all')"
   ]
  },
  {
   "cell_type": "markdown",
   "metadata": {},
   "source": [
    "Pregnancies: \n",
    "Max=17\n",
    "Min=0\n",
    "Mean=3.8\n",
    "\n",
    "Glucose:\n",
    "Max=199\n",
    "Min=0\n",
    "Mean=120.8\n",
    "\n",
    "BloodPressure:\n",
    "Max=122\n",
    "Min=0\n",
    "Mean=69\n",
    "\n",
    "SkinThickness:\n",
    "Max=99\n",
    "Min=0\n",
    "Mean=20\n",
    "\n",
    "Insulin:\n",
    "Max=846\n",
    "Min=0\n",
    "Mean=79\n",
    "\n",
    "BMI:\n",
    "Max=67\n",
    "Min=0\n",
    "Mean=31\n",
    "\n",
    "Age:\n",
    "Max=81\n",
    "Min=21\n",
    "Mean=33\n",
    "\n",
    "* Skewed: Pregnancies, Glucose, <b>Insulin<b> , DiabetesPedigreeFunction, Age"
   ]
  },
  {
   "cell_type": "markdown",
   "metadata": {},
   "source": [
    "<b>Analysis of Imbalance in the Age feature and Outcome label<b>\n",
    "- The proportion of younger to older patients is almost equal (51%)\n",
    "- There is a severe imbalance of outcomes. There is only 35% represented that do have diabetes, where as there are 65% of patients that don't have diabetes.\n",
    "    * what to do when there is an imbalance in the data points?\n",
    "- Insulin column has the most range"
   ]
  },
  {
   "cell_type": "code",
   "execution_count": 5,
   "metadata": {},
   "outputs": [
    {
     "name": "stdout",
     "output_type": "stream",
     "text": [
      "How many patients are younger than 30? 396\n",
      "How many patients are 30 or older? 372\n",
      "What is the proportion of younger patients to whole dataset? 0.515625\n"
     ]
    }
   ],
   "source": [
    "younger = (df['Age'] < 30)\n",
    "counter = 0\n",
    "for i in younger:\n",
    "    if i == True:\n",
    "        counter+=1\n",
    "print(f\"How many patients are younger than 30? {counter}\")\n",
    "\n",
    "older_counter = 0\n",
    "older = (df['Age'] >= 30)\n",
    "for i in older:\n",
    "    if i == True:\n",
    "        older_counter+=1\n",
    "print(f\"How many patients are 30 or older? {older_counter}\")\n",
    "\n",
    "print(f\"What is the proportion of younger patients to whole dataset? {np.sum(younger/df.shape[0])}\")"
   ]
  },
  {
   "cell_type": "code",
   "execution_count": 6,
   "metadata": {},
   "outputs": [
    {
     "name": "stdout",
     "output_type": "stream",
     "text": [
      "How many patients are not diagnosed with diabetes? 500\n",
      "What is the proportion of patients without diabetes? 0.6510416666666666\n",
      "\n",
      "\n",
      "How many patients are diagnosed with diabetes? 268\n",
      "What is the proportion of patients with diabetes? 0.3489583333333333\n"
     ]
    }
   ],
   "source": [
    "no_diabetes = (df['Outcome']==0)\n",
    "print(f\"How many patients are not diagnosed with diabetes? {no_diabetes.sum()}\")\n",
    "print(f\"What is the proportion of patients without diabetes? {np.sum(no_diabetes/df.shape[0])}\")\n",
    "\n",
    "print(\"\\n\")\n",
    "\n",
    "yes_diabetes = (df['Outcome']==1)\n",
    "print(f\"How many patients are diagnosed with diabetes? {yes_diabetes.sum()}\")\n",
    "print(f\"What is the proportion of patients with diabetes? {np.sum(yes_diabetes/df.shape[0])}\")"
   ]
  },
  {
   "cell_type": "code",
   "execution_count": 7,
   "metadata": {},
   "outputs": [
    {
     "name": "stdout",
     "output_type": "stream",
     "text": [
      "This feature has the highest variation: Insulin\n",
      "This feature has the highest range: Insulin\n"
     ]
    }
   ],
   "source": [
    "# column with the most range\n",
    "print(f\"This feature has the highest variation: {df.describe().loc['std'].idxmax()}\")\n",
    "\n",
    "# feature with the highest range\n",
    "column_ranges = df.describe().loc['max'] - df.describe().loc['min']\n",
    "column_range_name = column_ranges.idxmax()\n",
    "print(f\"This feature has the highest range: {column_range_name}\")"
   ]
  },
  {
   "cell_type": "markdown",
   "metadata": {},
   "source": [
    "<b>Cleaning Data:<b>\n",
    "* Check the correlation and mutual info of the features<br>\n",
    "   <i>* only want features that are relevant to predicting the label -> features with highest correlation and mutual information against the label<i>\n",
    "       <br>\n",
    "   <i>* pairs of features are highly correlated or high mutual info are redundant and can be removed<i>\n",
    "* Check for missing data points\n",
    "* Check for outliers\n",
    "* Check what data types are in each column \n",
    "* Visualize each column to see the outliers -> Winsorization - setting extreme outliers equal to a specified percentile of the data"
   ]
  },
  {
   "cell_type": "code",
   "execution_count": 8,
   "metadata": {
    "scrolled": true
   },
   "outputs": [
    {
     "data": {
      "text/plain": [
       "Outcome                     1.000000\n",
       "Glucose                     0.466581\n",
       "BMI                         0.292695\n",
       "Age                         0.238356\n",
       "Pregnancies                 0.221898\n",
       "DiabetesPedigreeFunction    0.173844\n",
       "Insulin                     0.130548\n",
       "SkinThickness               0.074752\n",
       "BloodPressure               0.065068\n",
       "Name: Outcome, dtype: float64"
      ]
     },
     "execution_count": 8,
     "metadata": {},
     "output_type": "execute_result"
    }
   ],
   "source": [
    "# is there a correlation between any of the features with the label?\n",
    "corrs = df.corr()['Outcome']\n",
    "corrs_sorted = corrs.sort_values(ascending=False)\n",
    "corrs_sorted"
   ]
  },
  {
   "cell_type": "markdown",
   "metadata": {},
   "source": [
    "The glucose feature has the highest correlation with the label<br>\n",
    "The blood pressure feature has the lowest correlation with the label\n",
    "* The features with the highest correlation to the label are the most valuable\n",
    "* Since skin thickness and blood pressure have pearson correlation < 0 with the Outcome, it means there is NO linear relationship between these columns and the label"
   ]
  },
  {
   "cell_type": "code",
   "execution_count": 9,
   "metadata": {},
   "outputs": [
    {
     "data": {
      "text/html": [
       "<div>\n",
       "<style scoped>\n",
       "    .dataframe tbody tr th:only-of-type {\n",
       "        vertical-align: middle;\n",
       "    }\n",
       "\n",
       "    .dataframe tbody tr th {\n",
       "        vertical-align: top;\n",
       "    }\n",
       "\n",
       "    .dataframe thead th {\n",
       "        text-align: right;\n",
       "    }\n",
       "</style>\n",
       "<table border=\"1\" class=\"dataframe\">\n",
       "  <thead>\n",
       "    <tr style=\"text-align: right;\">\n",
       "      <th></th>\n",
       "      <th>Pregnancies</th>\n",
       "      <th>Glucose</th>\n",
       "      <th>Insulin</th>\n",
       "      <th>BMI</th>\n",
       "      <th>DiabetesPedigreeFunction</th>\n",
       "      <th>Age</th>\n",
       "      <th>Outcome</th>\n",
       "    </tr>\n",
       "  </thead>\n",
       "  <tbody>\n",
       "    <tr>\n",
       "      <th>0</th>\n",
       "      <td>6</td>\n",
       "      <td>148</td>\n",
       "      <td>0</td>\n",
       "      <td>33.6</td>\n",
       "      <td>0.627</td>\n",
       "      <td>50</td>\n",
       "      <td>1</td>\n",
       "    </tr>\n",
       "    <tr>\n",
       "      <th>1</th>\n",
       "      <td>1</td>\n",
       "      <td>85</td>\n",
       "      <td>0</td>\n",
       "      <td>26.6</td>\n",
       "      <td>0.351</td>\n",
       "      <td>31</td>\n",
       "      <td>0</td>\n",
       "    </tr>\n",
       "    <tr>\n",
       "      <th>2</th>\n",
       "      <td>8</td>\n",
       "      <td>183</td>\n",
       "      <td>0</td>\n",
       "      <td>23.3</td>\n",
       "      <td>0.672</td>\n",
       "      <td>32</td>\n",
       "      <td>1</td>\n",
       "    </tr>\n",
       "    <tr>\n",
       "      <th>3</th>\n",
       "      <td>1</td>\n",
       "      <td>89</td>\n",
       "      <td>94</td>\n",
       "      <td>28.1</td>\n",
       "      <td>0.167</td>\n",
       "      <td>21</td>\n",
       "      <td>0</td>\n",
       "    </tr>\n",
       "    <tr>\n",
       "      <th>4</th>\n",
       "      <td>0</td>\n",
       "      <td>137</td>\n",
       "      <td>168</td>\n",
       "      <td>43.1</td>\n",
       "      <td>2.288</td>\n",
       "      <td>33</td>\n",
       "      <td>1</td>\n",
       "    </tr>\n",
       "  </tbody>\n",
       "</table>\n",
       "</div>"
      ],
      "text/plain": [
       "   Pregnancies  Glucose  Insulin   BMI  DiabetesPedigreeFunction  Age  Outcome\n",
       "0            6      148        0  33.6                     0.627   50        1\n",
       "1            1       85        0  26.6                     0.351   31        0\n",
       "2            8      183        0  23.3                     0.672   32        1\n",
       "3            1       89       94  28.1                     0.167   21        0\n",
       "4            0      137      168  43.1                     2.288   33        1"
      ]
     },
     "execution_count": 9,
     "metadata": {},
     "output_type": "execute_result"
    }
   ],
   "source": [
    "# drop the skin thickness and blood pressure columns:\n",
    "df = df.drop(\"SkinThickness\", axis='columns')\n",
    "df = df.drop(\"BloodPressure\", axis='columns')\n",
    "df.head()"
   ]
  },
  {
   "cell_type": "code",
   "execution_count": 10,
   "metadata": {},
   "outputs": [
    {
     "name": "stdout",
     "output_type": "stream",
     "text": [
      "Pregnancies                 0\n",
      "Glucose                     0\n",
      "Insulin                     0\n",
      "BMI                         0\n",
      "DiabetesPedigreeFunction    0\n",
      "Age                         0\n",
      "Outcome                     0\n",
      "dtype: int64\n",
      "\n",
      "\n",
      "False\n"
     ]
    }
   ],
   "source": [
    "# are there missing values?\n",
    "df.isnull()\n",
    "nan_count = np.sum(df.isnull())\n",
    "print(nan_count)\n",
    "print('\\n')\n",
    "print(df.isnull().values.any())"
   ]
  },
  {
   "cell_type": "code",
   "execution_count": 11,
   "metadata": {},
   "outputs": [
    {
     "data": {
      "text/plain": [
       "<Axes: xlabel='Age', ylabel='Count'>"
      ]
     },
     "execution_count": 11,
     "metadata": {},
     "output_type": "execute_result"
    },
    {
     "data": {
      "image/png": "[encoded data removed]",
      "text/plain": [
       "<Figure size 640x480 with 1 Axes>"
      ]
     },
     "metadata": {},
     "output_type": "display_data"
    },
    {
     "data": {
      "image/png": "[encoded data removed]",
      "text/plain": [
       "<Figure size 640x480 with 1 Axes>"
      ]
     },
     "metadata": {},
     "output_type": "display_data"
    },
    {
     "data": {
      "image/png": "[encoded data removed]",
      "text/plain": [
       "<Figure size 640x480 with 1 Axes>"
      ]
     },
     "metadata": {},
     "output_type": "display_data"
    },
    {
     "data": {
      "image/png": "[encoded data removed]",
      "text/plain": [
       "<Figure size 640x480 with 1 Axes>"
      ]
     },
     "metadata": {},
     "output_type": "display_data"
    },
    {
     "data": {
      "image/png": "[encoded data removed]",
      "text/plain": [
       "<Figure size 640x480 with 1 Axes>"
      ]
     },
     "metadata": {},
     "output_type": "display_data"
    },
    {
     "data": {
      "image/png": "[encoded data removed]",
      "text/plain": [
       "<Figure size 640x480 with 1 Axes>"
      ]
     },
     "metadata": {},
     "output_type": "display_data"
    }
   ],
   "source": [
    "import seaborn as sns\n",
    "\n",
    "plt.figure()\n",
    "sns.histplot(data=df, x=\"Pregnancies\")\n",
    "\n",
    "plt.figure()\n",
    "sns.histplot(data=df, x=\"Glucose\")\n",
    "#has an outlier at 0\n",
    "\n",
    "plt.figure()\n",
    "sns.histplot(data=df, x=\"Insulin\")\n",
    "#has an outlier at 800\n",
    "\n",
    "plt.figure()\n",
    "sns.histplot(data=df, x=\"BMI\")\n",
    "#has an outlier at 0\n",
    "\n",
    "plt.figure()\n",
    "sns.histplot(data=df, x=\"DiabetesPedigreeFunction\")\n",
    "\n",
    "plt.figure()\n",
    "sns.histplot(data=df, x=\"Age\")\n"
   ]
  },
  {
   "cell_type": "markdown",
   "metadata": {},
   "source": [
    "<b>Check the Outliers<b>\n",
    "- Insulin has the greatest difference between the mean and median\n",
    "- Winsorize the Insulin column: \n",
    "    The code cell below uses the stats.mstats.winsorize() function to add a new column to DataFrame df. The column will be named insulin-win and will contain the winsorized version of the Insulin column, with the cutoff from the 'bottom' and the cutoff from the 'top' both set at the 1% level."
   ]
  },
  {
   "cell_type": "code",
   "execution_count": 12,
   "metadata": {
    "scrolled": true
   },
   "outputs": [
    {
     "name": "stdout",
     "output_type": "stream",
     "text": [
      "This value in insulin is the 99.99th percentile: 838.1765999999925\n"
     ]
    },
    {
     "data": {
      "text/html": [
       "<div>\n",
       "<style scoped>\n",
       "    .dataframe tbody tr th:only-of-type {\n",
       "        vertical-align: middle;\n",
       "    }\n",
       "\n",
       "    .dataframe tbody tr th {\n",
       "        vertical-align: top;\n",
       "    }\n",
       "\n",
       "    .dataframe thead th {\n",
       "        text-align: right;\n",
       "    }\n",
       "</style>\n",
       "<table border=\"1\" class=\"dataframe\">\n",
       "  <thead>\n",
       "    <tr style=\"text-align: right;\">\n",
       "      <th></th>\n",
       "      <th>Pregnancies</th>\n",
       "      <th>Glucose</th>\n",
       "      <th>Insulin</th>\n",
       "      <th>BMI</th>\n",
       "      <th>DiabetesPedigreeFunction</th>\n",
       "      <th>Age</th>\n",
       "      <th>Outcome</th>\n",
       "      <th>Insulin-win</th>\n",
       "    </tr>\n",
       "  </thead>\n",
       "  <tbody>\n",
       "    <tr>\n",
       "      <th>0</th>\n",
       "      <td>6</td>\n",
       "      <td>148</td>\n",
       "      <td>0</td>\n",
       "      <td>33.6</td>\n",
       "      <td>0.627</td>\n",
       "      <td>50</td>\n",
       "      <td>1</td>\n",
       "      <td>0</td>\n",
       "    </tr>\n",
       "    <tr>\n",
       "      <th>1</th>\n",
       "      <td>1</td>\n",
       "      <td>85</td>\n",
       "      <td>0</td>\n",
       "      <td>26.6</td>\n",
       "      <td>0.351</td>\n",
       "      <td>31</td>\n",
       "      <td>0</td>\n",
       "      <td>0</td>\n",
       "    </tr>\n",
       "    <tr>\n",
       "      <th>2</th>\n",
       "      <td>8</td>\n",
       "      <td>183</td>\n",
       "      <td>0</td>\n",
       "      <td>23.3</td>\n",
       "      <td>0.672</td>\n",
       "      <td>32</td>\n",
       "      <td>1</td>\n",
       "      <td>0</td>\n",
       "    </tr>\n",
       "    <tr>\n",
       "      <th>3</th>\n",
       "      <td>1</td>\n",
       "      <td>89</td>\n",
       "      <td>94</td>\n",
       "      <td>28.1</td>\n",
       "      <td>0.167</td>\n",
       "      <td>21</td>\n",
       "      <td>0</td>\n",
       "      <td>94</td>\n",
       "    </tr>\n",
       "    <tr>\n",
       "      <th>4</th>\n",
       "      <td>0</td>\n",
       "      <td>137</td>\n",
       "      <td>168</td>\n",
       "      <td>43.1</td>\n",
       "      <td>2.288</td>\n",
       "      <td>33</td>\n",
       "      <td>1</td>\n",
       "      <td>168</td>\n",
       "    </tr>\n",
       "  </tbody>\n",
       "</table>\n",
       "</div>"
      ],
      "text/plain": [
       "   Pregnancies  Glucose  Insulin   BMI  DiabetesPedigreeFunction  Age  \\\n",
       "0            6      148        0  33.6                     0.627   50   \n",
       "1            1       85        0  26.6                     0.351   31   \n",
       "2            8      183        0  23.3                     0.672   32   \n",
       "3            1       89       94  28.1                     0.167   21   \n",
       "4            0      137      168  43.1                     2.288   33   \n",
       "\n",
       "   Outcome  Insulin-win  \n",
       "0        1            0  \n",
       "1        0            0  \n",
       "2        1            0  \n",
       "3        0           94  \n",
       "4        1          168  "
      ]
     },
     "execution_count": 12,
     "metadata": {},
     "output_type": "execute_result"
    }
   ],
   "source": [
    "insulin_999 = np.percentile(df['Insulin'], 99.99)\n",
    "print(f\"This value in insulin is the 99.99th percentile: {insulin_999}\")\n",
    "\n",
    "# winsorize insulin column bc has most skewed data\n",
    "import scipy.stats as stats\n",
    "df['Insulin-win'] = stats.mstats.winsorize(df['Insulin'], limits=[0.01, 0.01])\n",
    "df.head(5)"
   ]
  },
  {
   "cell_type": "code",
   "execution_count": 13,
   "metadata": {},
   "outputs": [
    {
     "data": {
      "text/html": [
       "<div>\n",
       "<style scoped>\n",
       "    .dataframe tbody tr th:only-of-type {\n",
       "        vertical-align: middle;\n",
       "    }\n",
       "\n",
       "    .dataframe tbody tr th {\n",
       "        vertical-align: top;\n",
       "    }\n",
       "\n",
       "    .dataframe thead th {\n",
       "        text-align: right;\n",
       "    }\n",
       "</style>\n",
       "<table border=\"1\" class=\"dataframe\">\n",
       "  <thead>\n",
       "    <tr style=\"text-align: right;\">\n",
       "      <th></th>\n",
       "      <th>Pregnancies</th>\n",
       "      <th>Glucose</th>\n",
       "      <th>Insulin</th>\n",
       "      <th>BMI</th>\n",
       "      <th>DiabetesPedigreeFunction</th>\n",
       "      <th>Age</th>\n",
       "      <th>Outcome</th>\n",
       "      <th>Insulin-win</th>\n",
       "    </tr>\n",
       "  </thead>\n",
       "  <tbody>\n",
       "    <tr>\n",
       "      <th>0</th>\n",
       "      <td>0.639947</td>\n",
       "      <td>0.848324</td>\n",
       "      <td>-0.692891</td>\n",
       "      <td>0.204013</td>\n",
       "      <td>0.468492</td>\n",
       "      <td>1.425995</td>\n",
       "      <td>1.365896</td>\n",
       "      <td>-0.715091</td>\n",
       "    </tr>\n",
       "    <tr>\n",
       "      <th>1</th>\n",
       "      <td>-0.844885</td>\n",
       "      <td>-1.123396</td>\n",
       "      <td>-0.692891</td>\n",
       "      <td>-0.684422</td>\n",
       "      <td>-0.365061</td>\n",
       "      <td>-0.190672</td>\n",
       "      <td>-0.732120</td>\n",
       "      <td>-0.715091</td>\n",
       "    </tr>\n",
       "    <tr>\n",
       "      <th>2</th>\n",
       "      <td>1.233880</td>\n",
       "      <td>1.943724</td>\n",
       "      <td>-0.692891</td>\n",
       "      <td>-1.103255</td>\n",
       "      <td>0.604397</td>\n",
       "      <td>-0.105584</td>\n",
       "      <td>1.365896</td>\n",
       "      <td>-0.715091</td>\n",
       "    </tr>\n",
       "    <tr>\n",
       "      <th>3</th>\n",
       "      <td>-0.844885</td>\n",
       "      <td>-0.998208</td>\n",
       "      <td>0.123302</td>\n",
       "      <td>-0.494043</td>\n",
       "      <td>-0.920763</td>\n",
       "      <td>-1.041549</td>\n",
       "      <td>-0.732120</td>\n",
       "      <td>0.137787</td>\n",
       "    </tr>\n",
       "    <tr>\n",
       "      <th>4</th>\n",
       "      <td>-1.141852</td>\n",
       "      <td>0.504055</td>\n",
       "      <td>0.765836</td>\n",
       "      <td>1.409746</td>\n",
       "      <td>5.484909</td>\n",
       "      <td>-0.020496</td>\n",
       "      <td>1.365896</td>\n",
       "      <td>0.809202</td>\n",
       "    </tr>\n",
       "    <tr>\n",
       "      <th>...</th>\n",
       "      <td>...</td>\n",
       "      <td>...</td>\n",
       "      <td>...</td>\n",
       "      <td>...</td>\n",
       "      <td>...</td>\n",
       "      <td>...</td>\n",
       "      <td>...</td>\n",
       "      <td>...</td>\n",
       "    </tr>\n",
       "    <tr>\n",
       "      <th>763</th>\n",
       "      <td>1.827813</td>\n",
       "      <td>-0.622642</td>\n",
       "      <td>0.870031</td>\n",
       "      <td>0.115169</td>\n",
       "      <td>-0.908682</td>\n",
       "      <td>2.532136</td>\n",
       "      <td>-0.732120</td>\n",
       "      <td>0.918080</td>\n",
       "    </tr>\n",
       "    <tr>\n",
       "      <th>764</th>\n",
       "      <td>-0.547919</td>\n",
       "      <td>0.034598</td>\n",
       "      <td>-0.692891</td>\n",
       "      <td>0.610154</td>\n",
       "      <td>-0.398282</td>\n",
       "      <td>-0.531023</td>\n",
       "      <td>-0.732120</td>\n",
       "      <td>-0.715091</td>\n",
       "    </tr>\n",
       "    <tr>\n",
       "      <th>765</th>\n",
       "      <td>0.342981</td>\n",
       "      <td>0.003301</td>\n",
       "      <td>0.279594</td>\n",
       "      <td>-0.735190</td>\n",
       "      <td>-0.685193</td>\n",
       "      <td>-0.275760</td>\n",
       "      <td>-0.732120</td>\n",
       "      <td>0.301104</td>\n",
       "    </tr>\n",
       "    <tr>\n",
       "      <th>766</th>\n",
       "      <td>-0.844885</td>\n",
       "      <td>0.159787</td>\n",
       "      <td>-0.692891</td>\n",
       "      <td>-0.240205</td>\n",
       "      <td>-0.371101</td>\n",
       "      <td>1.170732</td>\n",
       "      <td>1.365896</td>\n",
       "      <td>-0.715091</td>\n",
       "    </tr>\n",
       "    <tr>\n",
       "      <th>767</th>\n",
       "      <td>-0.844885</td>\n",
       "      <td>-0.873019</td>\n",
       "      <td>-0.692891</td>\n",
       "      <td>-0.202129</td>\n",
       "      <td>-0.473785</td>\n",
       "      <td>-0.871374</td>\n",
       "      <td>-0.732120</td>\n",
       "      <td>-0.715091</td>\n",
       "    </tr>\n",
       "  </tbody>\n",
       "</table>\n",
       "<p>768 rows × 8 columns</p>\n",
       "</div>"
      ],
      "text/plain": [
       "     Pregnancies   Glucose   Insulin       BMI  DiabetesPedigreeFunction  \\\n",
       "0       0.639947  0.848324 -0.692891  0.204013                  0.468492   \n",
       "1      -0.844885 -1.123396 -0.692891 -0.684422                 -0.365061   \n",
       "2       1.233880  1.943724 -0.692891 -1.103255                  0.604397   \n",
       "3      -0.844885 -0.998208  0.123302 -0.494043                 -0.920763   \n",
       "4      -1.141852  0.504055  0.765836  1.409746                  5.484909   \n",
       "..           ...       ...       ...       ...                       ...   \n",
       "763     1.827813 -0.622642  0.870031  0.115169                 -0.908682   \n",
       "764    -0.547919  0.034598 -0.692891  0.610154                 -0.398282   \n",
       "765     0.342981  0.003301  0.279594 -0.735190                 -0.685193   \n",
       "766    -0.844885  0.159787 -0.692891 -0.240205                 -0.371101   \n",
       "767    -0.844885 -0.873019 -0.692891 -0.202129                 -0.473785   \n",
       "\n",
       "          Age   Outcome  Insulin-win  \n",
       "0    1.425995  1.365896    -0.715091  \n",
       "1   -0.190672 -0.732120    -0.715091  \n",
       "2   -0.105584  1.365896    -0.715091  \n",
       "3   -1.041549 -0.732120     0.137787  \n",
       "4   -0.020496  1.365896     0.809202  \n",
       "..        ...       ...          ...  \n",
       "763  2.532136 -0.732120     0.918080  \n",
       "764 -0.531023 -0.732120    -0.715091  \n",
       "765 -0.275760 -0.732120     0.301104  \n",
       "766  1.170732  1.365896    -0.715091  \n",
       "767 -0.871374 -0.732120    -0.715091  \n",
       "\n",
       "[768 rows x 8 columns]"
      ]
     },
     "execution_count": 13,
     "metadata": {},
     "output_type": "execute_result"
    }
   ],
   "source": [
    "# z-score for all features\n",
    "df_zscores = df.select_dtypes(include=['number']).apply(stats.zscore)\n",
    "df_zscores\n",
    "# a data point with an abs value z-score > 3 is an outlier "
   ]
  },
  {
   "cell_type": "markdown",
   "metadata": {
    "id": "C-wYgEKOxDtQ"
   },
   "source": [
    "<b>Setting up the features and target label:<b>\n",
    "\n",
    "* Target Variable is 'Outcome'\n",
    "* Features: Pregnancies, Glucose, Insulin, BMI, Diabetes Pedigree Function\n",
    "\n",
    "<b>Why am I using Logistic Regression for this Diabetes Dataset?<b>\n",
    "- Logistic Regression is used for low model complexity. Making predictions in medical data sets is best with logistic regression due to the small amount of patient data."
   ]
  },
  {
   "cell_type": "code",
   "execution_count": 15,
   "metadata": {
    "id": "fquLLchR2Dxl"
   },
   "outputs": [],
   "source": [
    "list(df.columns)\n",
    "feature_list=['Pregnancies',\n",
    " 'Glucose',\n",
    " 'Insulin',\n",
    " 'BMI',\n",
    " 'DiabetesPedigreeFunction',\n",
    " 'Age']"
   ]
  },
  {
   "cell_type": "code",
   "execution_count": 16,
   "metadata": {
    "id": "NH69GNTx2Q4J"
   },
   "outputs": [],
   "source": [
    "y = df['Outcome']\n",
    "X = df[feature_list]"
   ]
  },
  {
   "cell_type": "code",
   "execution_count": 21,
   "metadata": {},
   "outputs": [
    {
     "name": "stdout",
     "output_type": "stream",
     "text": [
      "(514, 6)\n",
      "(254, 6)\n"
     ]
    }
   ],
   "source": [
    "X_train, X_test, y_train, y_test = train_test_split(X,y, test_size=0.33, random_state=1234)\n",
    "print(X_train.shape) #shape of train examples\n",
    "print(X_test.shape) #shape of test examples"
   ]
  },
  {
   "cell_type": "markdown",
   "metadata": {},
   "source": [
    "<b>Train<b>"
   ]
  },
  {
   "cell_type": "code",
   "execution_count": 24,
   "metadata": {},
   "outputs": [],
   "source": [
    "def train_test_LR(X_train, y_train, X_test, y_test, c=1):\n",
    "    model=LogisticRegression(C=c)\n",
    "    model.fit(X_train, y_train)\n",
    "    probability_predictions = model.predict_proba(X_test)\n",
    "    l_loss = log_loss(y_test, probability_predictions)\n",
    "    class_label_predictions = model.predict(X_test)\n",
    "    acc_score = accuracy_score(y_test, class_label_predictions)\n",
    "    return l_loss, acc_score"
   ]
  },
  {
   "cell_type": "code",
   "execution_count": 26,
   "metadata": {},
   "outputs": [
    {
     "name": "stdout",
     "output_type": "stream",
     "text": [
      "Log loss: 0.4854512848742763\n",
      "Accuracy: 0.7795275590551181\n"
     ]
    }
   ],
   "source": [
    "loss, acc = train_test_LR(X_train, y_train, X_test, y_test)\n",
    "print('Log loss: ' + str(loss))\n",
    "print('Accuracy: ' + str(acc))"
   ]
  },
  {
   "cell_type": "markdown",
   "metadata": {},
   "source": [
    "<b>Train on Different Hyperparameter Values<b>\n",
    "    \n",
    "<i>Smaller C regularization values are best for specify stronger regularization and a simpler model<br>Since this dataset has < 1000 examples then it is a smaller dataset and should have smaller C values<i>"
   ]
  },
  {
   "cell_type": "code",
   "execution_count": 28,
   "metadata": {},
   "outputs": [
    {
     "data": {
      "text/plain": [
       "[1e-10,\n",
       " 1e-09,\n",
       " 1e-08,\n",
       " 1e-07,\n",
       " 1e-06,\n",
       " 1e-05,\n",
       " 0.0001,\n",
       " 0.001,\n",
       " 0.01,\n",
       " 0.1,\n",
       " 1,\n",
       " 10,\n",
       " 100,\n",
       " 1000,\n",
       " 10000]"
      ]
     },
     "execution_count": 28,
     "metadata": {},
     "output_type": "execute_result"
    }
   ],
   "source": [
    "cs = [10**i for i in range(-10,5)]\n",
    "cs"
   ]
  },
  {
   "cell_type": "code",
   "execution_count": 29,
   "metadata": {},
   "outputs": [
    {
     "name": "stdout",
     "output_type": "stream",
     "text": [
      "c of 1e-10:\n",
      "log loss of 0.650223051423903\n",
      "accuracy score of 0.6456692913385826\n",
      "c of 1e-09:\n",
      "log loss of 0.6501769069697607\n",
      "accuracy score of 0.6456692913385826\n",
      "c of 1e-08:\n",
      "log loss of 0.6497222197346313\n",
      "accuracy score of 0.6456692913385826\n",
      "c of 1e-07:\n",
      "log loss of 0.6457419635367436\n",
      "accuracy score of 0.6456692913385826\n",
      "c of 1e-06:\n",
      "log loss of 0.6243927061295528\n",
      "accuracy score of 0.65748031496063\n",
      "c of 1e-05:\n",
      "log loss of 0.5585774720086221\n",
      "accuracy score of 0.7047244094488189\n",
      "c of 0.0001:\n",
      "log loss of 0.5084115005524248\n",
      "accuracy score of 0.7362204724409449\n",
      "c of 0.001:\n",
      "log loss of 0.48841286865609973\n",
      "accuracy score of 0.7480314960629921\n",
      "c of 0.01:\n",
      "log loss of 0.4856018552232687\n",
      "accuracy score of 0.7677165354330708\n",
      "c of 0.1:\n",
      "log loss of 0.4834851842978427\n",
      "accuracy score of 0.7755905511811023\n",
      "c of 1:\n",
      "log loss of 0.4854512848742763\n",
      "accuracy score of 0.7795275590551181\n",
      "c of 10:\n",
      "log loss of 0.48688488557310666\n",
      "accuracy score of 0.7755905511811023\n",
      "c of 100:\n",
      "log loss of 0.4874857569123801\n",
      "accuracy score of 0.7755905511811023\n",
      "c of 1000:\n",
      "log loss of 0.48709548523915586\n",
      "accuracy score of 0.7755905511811023\n",
      "c of 10000:\n",
      "log loss of 0.4874844347494205\n",
      "accuracy score of 0.7755905511811023\n"
     ]
    }
   ],
   "source": [
    "ll_cs = []\n",
    "acc_cs = []\n",
    "for c in cs:\n",
    "    ll, acc = train_test_LR(X_train, y_train, X_test, y_test, c)\n",
    "    print('c of {0}:\\nlog loss of {1}\\naccuracy score of {2}'.format(c, ll,acc))\n",
    "    ll_cs.append(ll)\n",
    "    acc_cs.append(acc)"
   ]
  },
  {
   "cell_type": "code",
   "execution_count": 31,
   "metadata": {},
   "outputs": [
    {
     "data": {
      "image/png": "[encoded data removed]",
      "text/plain": [
       "<Figure size 640x480 with 1 Axes>"
      ]
     },
     "metadata": {},
     "output_type": "display_data"
    }
   ],
   "source": [
    "# take the log 10 of the hyperparam values \n",
    "cs_log10 = np.log10(cs)\n",
    "\n",
    "fig = plt.figure()\n",
    "ax = fig.add_subplot(111)\n",
    "sns.lineplot(x=cs_log10, y=ll_cs, marker='o')\n",
    "plt.title('Log Loss Test Performance by Regularization Weight C')\n",
    "ax.set_xlabel('Regularization HyperParameter: C')\n",
    "ax.set_ylabel('Log Loss')\n",
    "plt.show()"
   ]
  },
  {
   "cell_type": "markdown",
   "metadata": {},
   "source": [
    "<b>Analysis<b>\n",
    "- C=1 has the highest accuracy, but C=0.1 has lower log loss = more accurate probabilistic predictions \n",
    "\n",
    "- C=1\n",
    "- Log loss: 0.4855\n",
    "- Accuracy: 0.7795\n",
    "    "
   ]
  }
 ],
 "metadata": {
  "accelerator": "GPU",
  "colab": {
   "gpuType": "T4",
   "provenance": []
  },
  "kernelspec": {
   "display_name": "Python 3 (ipykernel)",
   "language": "python",
   "name": "python3"
  },
  "language_info": {
   "codemirror_mode": {
    "name": "ipython",
    "version": 3
   },
   "file_extension": ".py",
   "mimetype": "text/x-python",
   "name": "python",
   "nbconvert_exporter": "python",
   "pygments_lexer": "ipython3",
   "version": "3.11.5"
  }
 },
 "nbformat": 4,
 "nbformat_minor": 1
}
