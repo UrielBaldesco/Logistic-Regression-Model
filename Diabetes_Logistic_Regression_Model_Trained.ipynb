{
 "cells": [
  {
   "cell_type": "markdown",
   "metadata": {
    "id": "Rq1WGbeawgBI"
   },
   "source": [
    "# Logistic Regression Model with Diabetes Database\n",
    "### Made By: Uriel Baldesco \n",
    "### Dataset from Kaggle"
   ]
  },
  {
   "cell_type": "code",
   "execution_count": 36,
   "metadata": {
    "id": "OabAsyc1wkwu"
   },
   "outputs": [],
   "source": [
    "import os\n",
    "import pandas as pd\n",
    "import numpy as np\n",
    "import matplotlib.pyplot as plt\n",
    "from sklearn.linear_model import LogisticRegression\n",
    "from sklearn.model_selection import train_test_split\n",
    "from sklearn.metrics import log_loss\n",
    "from sklearn.metrics import accuracy_score"
   ]
  },
  {
   "cell_type": "code",
   "execution_count": 37,
   "metadata": {
    "colab": {
     "base_uri": "https://localhost:8080/"
    },
    "id": "QiNXzByEwtqQ",
    "outputId": "d8709a95-4c7d-4496-fbe9-0d525ed4e93d"
   },
   "outputs": [],
   "source": [
    "filename = os.path.join(\"diabetes.csv\")\n",
    "df = pd.read_csv(filename)"
   ]
  },
  {
   "cell_type": "markdown",
   "metadata": {},
   "source": [
    "<b>Looking inside the dataset<b>"
   ]
  },
  {
   "cell_type": "code",
   "execution_count": 38,
   "metadata": {
    "scrolled": false
   },
   "outputs": [
    {
     "name": "stdout",
     "output_type": "stream",
     "text": [
      "first 5 rows:\n",
      "   Pregnancies  Glucose  BloodPressure  SkinThickness  Insulin   BMI  \\\n",
      "0            6      148             72             35        0  33.6   \n",
      "1            1       85             66             29        0  26.6   \n",
      "2            8      183             64              0        0  23.3   \n",
      "3            1       89             66             23       94  28.1   \n",
      "4            0      137             40             35      168  43.1   \n",
      "\n",
      "   DiabetesPedigreeFunction  Age  Outcome  \n",
      "0                     0.627   50        1  \n",
      "1                     0.351   31        0  \n",
      "2                     0.672   32        1  \n",
      "3                     0.167   21        0  \n",
      "4                     2.288   33        1  \n",
      "shape of df:(768, 9)\n",
      "the columns or features:['Pregnancies', 'Glucose', 'BloodPressure', 'SkinThickness', 'Insulin', 'BMI', 'DiabetesPedigreeFunction', 'Age', 'Outcome']\n",
      "\n",
      "\n"
     ]
    },
    {
     "data": {
      "text/plain": [
       "Pregnancies                   int64\n",
       "Glucose                       int64\n",
       "BloodPressure                 int64\n",
       "SkinThickness                 int64\n",
       "Insulin                       int64\n",
       "BMI                         float64\n",
       "DiabetesPedigreeFunction    float64\n",
       "Age                           int64\n",
       "Outcome                       int64\n",
       "dtype: object"
      ]
     },
     "execution_count": 38,
     "metadata": {},
     "output_type": "execute_result"
    }
   ],
   "source": [
    "print(f\"first 5 rows:\\n{df.head(5)}\")\n",
    "print(f\"shape of df:{df.shape}\")\n",
    "print(f\"the columns or features:{list(df.columns)}\")\n",
    "print(\"\\n\")\n",
    "\n",
    "df.dtypes"
   ]
  },
  {
   "cell_type": "markdown",
   "metadata": {},
   "source": [
    "<b>Inspect Data and Check for Imbalance<b>\n",
    "- Is there an imbalance of 0s and 1s values in the Outcome Label?\n",
    "- When the mean > median, then the column is skewed:\n",
    "    * The pregnancies column: mean=3.845052, median=3.000000\n",
    "    * The glucose column: mean=120.894531, median=117.000000\n",
    "    * <b>The insulin column: mean=79.799479, median=30.500000<b>\n",
    "    * The diabetes pedigree function column: mean=0.471876, median=0.372500\t\n",
    "    * The outcome column: mean=0.348958, median=0\n",
    "- Which feature has the highest range?\n",
    "    * The column with most variation: Insulin\n",
    "    * construct a vector of difference using df_summ.loc[] to find diff between max and min columns"
   ]
  },
  {
   "cell_type": "code",
   "execution_count": 39,
   "metadata": {
    "scrolled": true
   },
   "outputs": [
    {
     "data": {
      "text/html": [
       "<div>\n",
       "<style scoped>\n",
       "    .dataframe tbody tr th:only-of-type {\n",
       "        vertical-align: middle;\n",
       "    }\n",
       "\n",
       "    .dataframe tbody tr th {\n",
       "        vertical-align: top;\n",
       "    }\n",
       "\n",
       "    .dataframe thead th {\n",
       "        text-align: right;\n",
       "    }\n",
       "</style>\n",
       "<table border=\"1\" class=\"dataframe\">\n",
       "  <thead>\n",
       "    <tr style=\"text-align: right;\">\n",
       "      <th></th>\n",
       "      <th>Pregnancies</th>\n",
       "      <th>Glucose</th>\n",
       "      <th>BloodPressure</th>\n",
       "      <th>SkinThickness</th>\n",
       "      <th>Insulin</th>\n",
       "      <th>BMI</th>\n",
       "      <th>DiabetesPedigreeFunction</th>\n",
       "      <th>Age</th>\n",
       "      <th>Outcome</th>\n",
       "    </tr>\n",
       "  </thead>\n",
       "  <tbody>\n",
       "    <tr>\n",
       "      <th>count</th>\n",
       "      <td>768.000000</td>\n",
       "      <td>768.000000</td>\n",
       "      <td>768.000000</td>\n",
       "      <td>768.000000</td>\n",
       "      <td>768.000000</td>\n",
       "      <td>768.000000</td>\n",
       "      <td>768.000000</td>\n",
       "      <td>768.000000</td>\n",
       "      <td>768.000000</td>\n",
       "    </tr>\n",
       "    <tr>\n",
       "      <th>mean</th>\n",
       "      <td>3.845052</td>\n",
       "      <td>120.894531</td>\n",
       "      <td>69.105469</td>\n",
       "      <td>20.536458</td>\n",
       "      <td>79.799479</td>\n",
       "      <td>31.992578</td>\n",
       "      <td>0.471876</td>\n",
       "      <td>33.240885</td>\n",
       "      <td>0.348958</td>\n",
       "    </tr>\n",
       "    <tr>\n",
       "      <th>std</th>\n",
       "      <td>3.369578</td>\n",
       "      <td>31.972618</td>\n",
       "      <td>19.355807</td>\n",
       "      <td>15.952218</td>\n",
       "      <td>115.244002</td>\n",
       "      <td>7.884160</td>\n",
       "      <td>0.331329</td>\n",
       "      <td>11.760232</td>\n",
       "      <td>0.476951</td>\n",
       "    </tr>\n",
       "    <tr>\n",
       "      <th>min</th>\n",
       "      <td>0.000000</td>\n",
       "      <td>0.000000</td>\n",
       "      <td>0.000000</td>\n",
       "      <td>0.000000</td>\n",
       "      <td>0.000000</td>\n",
       "      <td>0.000000</td>\n",
       "      <td>0.078000</td>\n",
       "      <td>21.000000</td>\n",
       "      <td>0.000000</td>\n",
       "    </tr>\n",
       "    <tr>\n",
       "      <th>25%</th>\n",
       "      <td>1.000000</td>\n",
       "      <td>99.000000</td>\n",
       "      <td>62.000000</td>\n",
       "      <td>0.000000</td>\n",
       "      <td>0.000000</td>\n",
       "      <td>27.300000</td>\n",
       "      <td>0.243750</td>\n",
       "      <td>24.000000</td>\n",
       "      <td>0.000000</td>\n",
       "    </tr>\n",
       "    <tr>\n",
       "      <th>50%</th>\n",
       "      <td>3.000000</td>\n",
       "      <td>117.000000</td>\n",
       "      <td>72.000000</td>\n",
       "      <td>23.000000</td>\n",
       "      <td>30.500000</td>\n",
       "      <td>32.000000</td>\n",
       "      <td>0.372500</td>\n",
       "      <td>29.000000</td>\n",
       "      <td>0.000000</td>\n",
       "    </tr>\n",
       "    <tr>\n",
       "      <th>75%</th>\n",
       "      <td>6.000000</td>\n",
       "      <td>140.250000</td>\n",
       "      <td>80.000000</td>\n",
       "      <td>32.000000</td>\n",
       "      <td>127.250000</td>\n",
       "      <td>36.600000</td>\n",
       "      <td>0.626250</td>\n",
       "      <td>41.000000</td>\n",
       "      <td>1.000000</td>\n",
       "    </tr>\n",
       "    <tr>\n",
       "      <th>max</th>\n",
       "      <td>17.000000</td>\n",
       "      <td>199.000000</td>\n",
       "      <td>122.000000</td>\n",
       "      <td>99.000000</td>\n",
       "      <td>846.000000</td>\n",
       "      <td>67.100000</td>\n",
       "      <td>2.420000</td>\n",
       "      <td>81.000000</td>\n",
       "      <td>1.000000</td>\n",
       "    </tr>\n",
       "  </tbody>\n",
       "</table>\n",
       "</div>"
      ],
      "text/plain": [
       "       Pregnancies     Glucose  BloodPressure  SkinThickness     Insulin  \\\n",
       "count   768.000000  768.000000     768.000000     768.000000  768.000000   \n",
       "mean      3.845052  120.894531      69.105469      20.536458   79.799479   \n",
       "std       3.369578   31.972618      19.355807      15.952218  115.244002   \n",
       "min       0.000000    0.000000       0.000000       0.000000    0.000000   \n",
       "25%       1.000000   99.000000      62.000000       0.000000    0.000000   \n",
       "50%       3.000000  117.000000      72.000000      23.000000   30.500000   \n",
       "75%       6.000000  140.250000      80.000000      32.000000  127.250000   \n",
       "max      17.000000  199.000000     122.000000      99.000000  846.000000   \n",
       "\n",
       "              BMI  DiabetesPedigreeFunction         Age     Outcome  \n",
       "count  768.000000                768.000000  768.000000  768.000000  \n",
       "mean    31.992578                  0.471876   33.240885    0.348958  \n",
       "std      7.884160                  0.331329   11.760232    0.476951  \n",
       "min      0.000000                  0.078000   21.000000    0.000000  \n",
       "25%     27.300000                  0.243750   24.000000    0.000000  \n",
       "50%     32.000000                  0.372500   29.000000    0.000000  \n",
       "75%     36.600000                  0.626250   41.000000    1.000000  \n",
       "max     67.100000                  2.420000   81.000000    1.000000  "
      ]
     },
     "execution_count": 39,
     "metadata": {},
     "output_type": "execute_result"
    }
   ],
   "source": [
    "df.describe(include='all')"
   ]
  },
  {
   "cell_type": "markdown",
   "metadata": {},
   "source": [
    "Pregnancies: \n",
    "Max=17\n",
    "Min=0\n",
    "Mean=3.8\n",
    "\n",
    "Glucose:\n",
    "Max=199\n",
    "Min=0\n",
    "Mean=120.8\n",
    "\n",
    "BloodPressure:\n",
    "Max=122\n",
    "Min=0\n",
    "Mean=69\n",
    "\n",
    "SkinThickness:\n",
    "Max=99\n",
    "Min=0\n",
    "Mean=20\n",
    "\n",
    "Insulin:\n",
    "Max=846\n",
    "Min=0\n",
    "Mean=79\n",
    "\n",
    "BMI:\n",
    "Max=67\n",
    "Min=0\n",
    "Mean=31\n",
    "\n",
    "Age:\n",
    "Max=81\n",
    "Min=21\n",
    "Mean=33\n",
    "\n",
    "* Skewed: Pregnancies, Glucose, <b>Insulin<b> , DiabetesPedigreeFunction, Age"
   ]
  },
  {
   "cell_type": "markdown",
   "metadata": {},
   "source": [
    "<b>Analysis of Imbalance in the Age feature and Outcome label<b>\n",
    "- There is a severe imbalance of outcomes. There is only 35% represented that do have diabetes, where as there are 65% of patients that don't have diabetes.\n",
    "    * what to do when there is an imbalance in the data points?"
   ]
  },
  {
   "cell_type": "code",
   "execution_count": 41,
   "metadata": {},
   "outputs": [
    {
     "name": "stdout",
     "output_type": "stream",
     "text": [
      "How many patients are not diagnosed with diabetes? 500\n",
      "What is the proportion of patients without diabetes? 0.6510416666666666\n",
      "\n",
      "\n",
      "How many patients are diagnosed with diabetes? 268\n",
      "What is the proportion of patients with diabetes? 0.3489583333333333\n"
     ]
    }
   ],
   "source": [
    "no_diabetes = (df['Outcome']==0)\n",
    "print(f\"How many patients are not diagnosed with diabetes? {no_diabetes.sum()}\")\n",
    "print(f\"What is the proportion of patients without diabetes? {np.sum(no_diabetes/df.shape[0])}\")\n",
    "\n",
    "print(\"\\n\")\n",
    "\n",
    "yes_diabetes = (df['Outcome']==1)\n",
    "print(f\"How many patients are diagnosed with diabetes? {yes_diabetes.sum()}\")\n",
    "print(f\"What is the proportion of patients with diabetes? {np.sum(yes_diabetes/df.shape[0])}\")"
   ]
  },
  {
   "cell_type": "code",
   "execution_count": 42,
   "metadata": {},
   "outputs": [
    {
     "name": "stdout",
     "output_type": "stream",
     "text": [
      "This feature has the highest variation: Insulin\n",
      "This feature has the highest range: Insulin\n"
     ]
    }
   ],
   "source": [
    "# column with the most range\n",
    "print(f\"This feature has the highest variation: {df.describe().loc['std'].idxmax()}\")\n",
    "\n",
    "# feature with the highest range\n",
    "column_ranges = df.describe().loc['max'] - df.describe().loc['min']\n",
    "column_range_name = column_ranges.idxmax()\n",
    "print(f\"This feature has the highest range: {column_range_name}\")"
   ]
  },
  {
   "cell_type": "markdown",
   "metadata": {},
   "source": [
    "<b>Cleaning Data:<b>\n",
    "* Check the correlation and mutual info of the features<br>\n",
    "   <i>* only want features that are relevant to predicting the label -> features with highest correlation and mutual information against the label<i>\n",
    "       <br>\n",
    "   <i>* pairs of features are highly correlated or high mutual info are redundant and can be removed<i>\n",
    "* Check for missing data points\n",
    "* Check for outliers\n",
    "* Check what data types are in each column \n",
    "* Visualize each column to see the outliers -> Winsorization - setting extreme outliers equal to a specified percentile of the data"
   ]
  },
  {
   "cell_type": "code",
   "execution_count": 43,
   "metadata": {
    "scrolled": true
   },
   "outputs": [
    {
     "data": {
      "text/plain": [
       "Outcome                     1.000000\n",
       "Glucose                     0.466581\n",
       "BMI                         0.292695\n",
       "Age                         0.238356\n",
       "Pregnancies                 0.221898\n",
       "DiabetesPedigreeFunction    0.173844\n",
       "Insulin                     0.130548\n",
       "SkinThickness               0.074752\n",
       "BloodPressure               0.065068\n",
       "Name: Outcome, dtype: float64"
      ]
     },
     "execution_count": 43,
     "metadata": {},
     "output_type": "execute_result"
    }
   ],
   "source": [
    "# is there a correlation between any of the features with the label?\n",
    "corrs = df.corr()['Outcome']\n",
    "corrs_sorted = corrs.sort_values(ascending=False)\n",
    "corrs_sorted"
   ]
  },
  {
   "cell_type": "markdown",
   "metadata": {},
   "source": [
    "The glucose feature has the highest correlation with the label<br>\n",
    "The blood pressure feature has the lowest correlation with the label\n",
    "* The features with the highest correlation to the label are the most valuable\n",
    "* Since skin thickness and blood pressure have pearson correlation < 0 with the Outcome, it means there is NO linear relationship between these columns and the label"
   ]
  },
  {
   "cell_type": "code",
   "execution_count": 44,
   "metadata": {},
   "outputs": [
    {
     "data": {
      "text/html": [
       "<div>\n",
       "<style scoped>\n",
       "    .dataframe tbody tr th:only-of-type {\n",
       "        vertical-align: middle;\n",
       "    }\n",
       "\n",
       "    .dataframe tbody tr th {\n",
       "        vertical-align: top;\n",
       "    }\n",
       "\n",
       "    .dataframe thead th {\n",
       "        text-align: right;\n",
       "    }\n",
       "</style>\n",
       "<table border=\"1\" class=\"dataframe\">\n",
       "  <thead>\n",
       "    <tr style=\"text-align: right;\">\n",
       "      <th></th>\n",
       "      <th>Pregnancies</th>\n",
       "      <th>Glucose</th>\n",
       "      <th>Insulin</th>\n",
       "      <th>BMI</th>\n",
       "      <th>DiabetesPedigreeFunction</th>\n",
       "      <th>Age</th>\n",
       "      <th>Outcome</th>\n",
       "    </tr>\n",
       "  </thead>\n",
       "  <tbody>\n",
       "    <tr>\n",
       "      <th>0</th>\n",
       "      <td>6</td>\n",
       "      <td>148</td>\n",
       "      <td>0</td>\n",
       "      <td>33.6</td>\n",
       "      <td>0.627</td>\n",
       "      <td>50</td>\n",
       "      <td>1</td>\n",
       "    </tr>\n",
       "    <tr>\n",
       "      <th>1</th>\n",
       "      <td>1</td>\n",
       "      <td>85</td>\n",
       "      <td>0</td>\n",
       "      <td>26.6</td>\n",
       "      <td>0.351</td>\n",
       "      <td>31</td>\n",
       "      <td>0</td>\n",
       "    </tr>\n",
       "    <tr>\n",
       "      <th>2</th>\n",
       "      <td>8</td>\n",
       "      <td>183</td>\n",
       "      <td>0</td>\n",
       "      <td>23.3</td>\n",
       "      <td>0.672</td>\n",
       "      <td>32</td>\n",
       "      <td>1</td>\n",
       "    </tr>\n",
       "    <tr>\n",
       "      <th>3</th>\n",
       "      <td>1</td>\n",
       "      <td>89</td>\n",
       "      <td>94</td>\n",
       "      <td>28.1</td>\n",
       "      <td>0.167</td>\n",
       "      <td>21</td>\n",
       "      <td>0</td>\n",
       "    </tr>\n",
       "    <tr>\n",
       "      <th>4</th>\n",
       "      <td>0</td>\n",
       "      <td>137</td>\n",
       "      <td>168</td>\n",
       "      <td>43.1</td>\n",
       "      <td>2.288</td>\n",
       "      <td>33</td>\n",
       "      <td>1</td>\n",
       "    </tr>\n",
       "  </tbody>\n",
       "</table>\n",
       "</div>"
      ],
      "text/plain": [
       "   Pregnancies  Glucose  Insulin   BMI  DiabetesPedigreeFunction  Age  Outcome\n",
       "0            6      148        0  33.6                     0.627   50        1\n",
       "1            1       85        0  26.6                     0.351   31        0\n",
       "2            8      183        0  23.3                     0.672   32        1\n",
       "3            1       89       94  28.1                     0.167   21        0\n",
       "4            0      137      168  43.1                     2.288   33        1"
      ]
     },
     "execution_count": 44,
     "metadata": {},
     "output_type": "execute_result"
    }
   ],
   "source": [
    "# drop the skin thickness and blood pressure columns:\n",
    "df = df.drop(\"SkinThickness\", axis='columns')\n",
    "df = df.drop(\"BloodPressure\", axis='columns')\n",
    "df.head()"
   ]
  },
  {
   "cell_type": "code",
   "execution_count": 45,
   "metadata": {},
   "outputs": [
    {
     "name": "stdout",
     "output_type": "stream",
     "text": [
      "Pregnancies                 0\n",
      "Glucose                     0\n",
      "Insulin                     0\n",
      "BMI                         0\n",
      "DiabetesPedigreeFunction    0\n",
      "Age                         0\n",
      "Outcome                     0\n",
      "dtype: int64\n",
      "\n",
      "\n",
      "False\n"
     ]
    }
   ],
   "source": [
    "# are there missing values?\n",
    "df.isnull()\n",
    "nan_count = np.sum(df.isnull())\n",
    "print(nan_count)\n",
    "print('\\n')\n",
    "print(df.isnull().values.any())"
   ]
  },
  {
   "cell_type": "code",
   "execution_count": 119,
   "metadata": {},
   "outputs": [
    {
     "data": {
      "image/png": "[encoded data removed]",
      "text/plain": [
       "<Figure size 640x480 with 1 Axes>"
      ]
     },
     "metadata": {},
     "output_type": "display_data"
    },
    {
     "data": {
      "text/plain": [
       "<Axes: xlabel='Age', ylabel='Count'>"
      ]
     },
     "execution_count": 119,
     "metadata": {},
     "output_type": "execute_result"
    },
    {
     "data": {
      "image/png": "[encoded data removed]",
      "text/plain": [
       "<Figure size 640x480 with 1 Axes>"
      ]
     },
     "metadata": {},
     "output_type": "display_data"
    },
    {
     "data": {
      "image/png": "[encoded data removed]",
      "text/plain": [
       "<Figure size 640x480 with 1 Axes>"
      ]
     },
     "metadata": {},
     "output_type": "display_data"
    },
    {
     "data": {
      "image/png": "[encoded data removed]",
      "text/plain": [
       "<Figure size 640x480 with 1 Axes>"
      ]
     },
     "metadata": {},
     "output_type": "display_data"
    },
    {
     "data": {
      "image/png": "[encoded data removed]",
      "text/plain": [
       "<Figure size 640x480 with 1 Axes>"
      ]
     },
     "metadata": {},
     "output_type": "display_data"
    },
    {
     "data": {
      "image/png": "[encoded data removed]",
      "text/plain": [
       "<Figure size 640x480 with 1 Axes>"
      ]
     },
     "metadata": {},
     "output_type": "display_data"
    }
   ],
   "source": [
    "import seaborn as sns\n",
    "\n",
    "plt.figure()\n",
    "sns.histplot(data=df, x=\"Pregnancies\", discrete=True, binwidth=1)\n",
    "plt.xticks(np.arange(df[\"Pregnancies\"].min(), df[\"Pregnancies\"].max() + 1, 1))\n",
    "plt.xlabel('Number of Pregnancies')\n",
    "plt.ylabel('Frequency')\n",
    "plt.title('Distribution of Number of Pregnancies')\n",
    "plt.show()\n",
    "\n",
    "plt.figure()\n",
    "sns.histplot(data=df, x=\"Glucose\")\n",
    "#has an outlier at 0\n",
    "\n",
    "plt.figure()\n",
    "sns.histplot(data=df, x=\"Insulin\")\n",
    "#has an outlier at 800\n",
    "\n",
    "plt.figure()\n",
    "sns.histplot(data=df, x=\"BMI\")\n",
    "#has an outlier at 0\n",
    "\n",
    "plt.figure()\n",
    "sns.histplot(data=df, x=\"DiabetesPedigreeFunction\")\n",
    "\n",
    "plt.figure()\n",
    "sns.histplot(data=df, x=\"Age\")\n"
   ]
  },
  {
   "cell_type": "markdown",
   "metadata": {},
   "source": [
    "<b>Check the Outliers<b>\n",
    "- Insulin has the greatest difference between the mean and median\n",
    "- Winsorize the Insulin column: \n",
    "    The code cell below uses the stats.mstats.winsorize() function to add a new column to DataFrame df. The column will be named insulin-win and will contain the winsorized version of the Insulin column, with the cutoff from the 'bottom' and the cutoff from the 'top' both set at the 1% level."
   ]
  },
  {
   "cell_type": "code",
   "execution_count": 47,
   "metadata": {
    "scrolled": true
   },
   "outputs": [
    {
     "name": "stdout",
     "output_type": "stream",
     "text": [
      "This value in insulin is the 99.99th percentile: 838.1765999999925\n"
     ]
    },
    {
     "data": {
      "text/html": [
       "<div>\n",
       "<style scoped>\n",
       "    .dataframe tbody tr th:only-of-type {\n",
       "        vertical-align: middle;\n",
       "    }\n",
       "\n",
       "    .dataframe tbody tr th {\n",
       "        vertical-align: top;\n",
       "    }\n",
       "\n",
       "    .dataframe thead th {\n",
       "        text-align: right;\n",
       "    }\n",
       "</style>\n",
       "<table border=\"1\" class=\"dataframe\">\n",
       "  <thead>\n",
       "    <tr style=\"text-align: right;\">\n",
       "      <th></th>\n",
       "      <th>Pregnancies</th>\n",
       "      <th>Glucose</th>\n",
       "      <th>Insulin</th>\n",
       "      <th>BMI</th>\n",
       "      <th>DiabetesPedigreeFunction</th>\n",
       "      <th>Age</th>\n",
       "      <th>Outcome</th>\n",
       "      <th>Insulin-win</th>\n",
       "    </tr>\n",
       "  </thead>\n",
       "  <tbody>\n",
       "    <tr>\n",
       "      <th>0</th>\n",
       "      <td>6</td>\n",
       "      <td>148</td>\n",
       "      <td>0</td>\n",
       "      <td>33.6</td>\n",
       "      <td>0.627</td>\n",
       "      <td>50</td>\n",
       "      <td>1</td>\n",
       "      <td>0</td>\n",
       "    </tr>\n",
       "    <tr>\n",
       "      <th>1</th>\n",
       "      <td>1</td>\n",
       "      <td>85</td>\n",
       "      <td>0</td>\n",
       "      <td>26.6</td>\n",
       "      <td>0.351</td>\n",
       "      <td>31</td>\n",
       "      <td>0</td>\n",
       "      <td>0</td>\n",
       "    </tr>\n",
       "  </tbody>\n",
       "</table>\n",
       "</div>"
      ],
      "text/plain": [
       "   Pregnancies  Glucose  Insulin   BMI  DiabetesPedigreeFunction  Age  \\\n",
       "0            6      148        0  33.6                     0.627   50   \n",
       "1            1       85        0  26.6                     0.351   31   \n",
       "\n",
       "   Outcome  Insulin-win  \n",
       "0        1            0  \n",
       "1        0            0  "
      ]
     },
     "execution_count": 47,
     "metadata": {},
     "output_type": "execute_result"
    }
   ],
   "source": [
    "insulin_999 = np.percentile(df['Insulin'], 99.99)\n",
    "print(f\"This value in insulin is the 99.99th percentile: {insulin_999}\")\n",
    "\n",
    "# winsorize insulin column bc has most skewed data\n",
    "import scipy.stats as stats\n",
    "df['Insulin-win'] = stats.mstats.winsorize(df['Insulin'], limits=[0.01, 0.01])\n",
    "df.head(2)"
   ]
  },
  {
   "cell_type": "code",
   "execution_count": 48,
   "metadata": {},
   "outputs": [
    {
     "name": "stdout",
     "output_type": "stream",
     "text": [
      "This value in glucose is the 99.99th percentile: 198.92329999999993\n"
     ]
    },
    {
     "data": {
      "text/html": [
       "<div>\n",
       "<style scoped>\n",
       "    .dataframe tbody tr th:only-of-type {\n",
       "        vertical-align: middle;\n",
       "    }\n",
       "\n",
       "    .dataframe tbody tr th {\n",
       "        vertical-align: top;\n",
       "    }\n",
       "\n",
       "    .dataframe thead th {\n",
       "        text-align: right;\n",
       "    }\n",
       "</style>\n",
       "<table border=\"1\" class=\"dataframe\">\n",
       "  <thead>\n",
       "    <tr style=\"text-align: right;\">\n",
       "      <th></th>\n",
       "      <th>Pregnancies</th>\n",
       "      <th>Glucose</th>\n",
       "      <th>Insulin</th>\n",
       "      <th>BMI</th>\n",
       "      <th>DiabetesPedigreeFunction</th>\n",
       "      <th>Age</th>\n",
       "      <th>Outcome</th>\n",
       "      <th>Insulin-win</th>\n",
       "    </tr>\n",
       "  </thead>\n",
       "  <tbody>\n",
       "    <tr>\n",
       "      <th>0</th>\n",
       "      <td>6</td>\n",
       "      <td>148</td>\n",
       "      <td>0</td>\n",
       "      <td>33.6</td>\n",
       "      <td>0.627</td>\n",
       "      <td>50</td>\n",
       "      <td>1</td>\n",
       "      <td>0</td>\n",
       "    </tr>\n",
       "    <tr>\n",
       "      <th>1</th>\n",
       "      <td>1</td>\n",
       "      <td>85</td>\n",
       "      <td>0</td>\n",
       "      <td>26.6</td>\n",
       "      <td>0.351</td>\n",
       "      <td>31</td>\n",
       "      <td>0</td>\n",
       "      <td>0</td>\n",
       "    </tr>\n",
       "  </tbody>\n",
       "</table>\n",
       "</div>"
      ],
      "text/plain": [
       "   Pregnancies  Glucose  Insulin   BMI  DiabetesPedigreeFunction  Age  \\\n",
       "0            6      148        0  33.6                     0.627   50   \n",
       "1            1       85        0  26.6                     0.351   31   \n",
       "\n",
       "   Outcome  Insulin-win  \n",
       "0        1            0  \n",
       "1        0            0  "
      ]
     },
     "execution_count": 48,
     "metadata": {},
     "output_type": "execute_result"
    }
   ],
   "source": [
    "# winsorize glucose\n",
    "glucose_999 = np.percentile(df['Glucose'], 99.99)\n",
    "print(f\"This value in glucose is the 99.99th percentile: {glucose_999}\")\n",
    "\n",
    "import scipy.stats as stats\n",
    "df['Glucose'] = stats.mstats.winsorize(df['Glucose'], limits=[0.01, 0.01])\n",
    "df.head(2)"
   ]
  },
  {
   "cell_type": "code",
   "execution_count": 49,
   "metadata": {},
   "outputs": [
    {
     "name": "stdout",
     "output_type": "stream",
     "text": [
      "This value in BMI is the 99.99th percentile: 66.50940999999943\n"
     ]
    },
    {
     "data": {
      "text/html": [
       "<div>\n",
       "<style scoped>\n",
       "    .dataframe tbody tr th:only-of-type {\n",
       "        vertical-align: middle;\n",
       "    }\n",
       "\n",
       "    .dataframe tbody tr th {\n",
       "        vertical-align: top;\n",
       "    }\n",
       "\n",
       "    .dataframe thead th {\n",
       "        text-align: right;\n",
       "    }\n",
       "</style>\n",
       "<table border=\"1\" class=\"dataframe\">\n",
       "  <thead>\n",
       "    <tr style=\"text-align: right;\">\n",
       "      <th></th>\n",
       "      <th>Pregnancies</th>\n",
       "      <th>Glucose</th>\n",
       "      <th>Insulin</th>\n",
       "      <th>BMI</th>\n",
       "      <th>DiabetesPedigreeFunction</th>\n",
       "      <th>Age</th>\n",
       "      <th>Outcome</th>\n",
       "      <th>Insulin-win</th>\n",
       "    </tr>\n",
       "  </thead>\n",
       "  <tbody>\n",
       "    <tr>\n",
       "      <th>0</th>\n",
       "      <td>6</td>\n",
       "      <td>148</td>\n",
       "      <td>0</td>\n",
       "      <td>33.6</td>\n",
       "      <td>0.627</td>\n",
       "      <td>50</td>\n",
       "      <td>1</td>\n",
       "      <td>0</td>\n",
       "    </tr>\n",
       "    <tr>\n",
       "      <th>1</th>\n",
       "      <td>1</td>\n",
       "      <td>85</td>\n",
       "      <td>0</td>\n",
       "      <td>26.6</td>\n",
       "      <td>0.351</td>\n",
       "      <td>31</td>\n",
       "      <td>0</td>\n",
       "      <td>0</td>\n",
       "    </tr>\n",
       "  </tbody>\n",
       "</table>\n",
       "</div>"
      ],
      "text/plain": [
       "   Pregnancies  Glucose  Insulin   BMI  DiabetesPedigreeFunction  Age  \\\n",
       "0            6      148        0  33.6                     0.627   50   \n",
       "1            1       85        0  26.6                     0.351   31   \n",
       "\n",
       "   Outcome  Insulin-win  \n",
       "0        1            0  \n",
       "1        0            0  "
      ]
     },
     "execution_count": 49,
     "metadata": {},
     "output_type": "execute_result"
    }
   ],
   "source": [
    "# winsorize BMI\n",
    "BMI_999 = np.percentile(df['BMI'], 99.99)\n",
    "print(f\"This value in BMI is the 99.99th percentile: {BMI_999}\")\n",
    "\n",
    "import scipy.stats as stats\n",
    "df['BMI'] = stats.mstats.winsorize(df['BMI'], limits=[0.01, 0.01])\n",
    "df.head(2)"
   ]
  },
  {
   "cell_type": "code",
   "execution_count": 120,
   "metadata": {},
   "outputs": [
    {
     "data": {
      "text/html": [
       "<div>\n",
       "<style scoped>\n",
       "    .dataframe tbody tr th:only-of-type {\n",
       "        vertical-align: middle;\n",
       "    }\n",
       "\n",
       "    .dataframe tbody tr th {\n",
       "        vertical-align: top;\n",
       "    }\n",
       "\n",
       "    .dataframe thead th {\n",
       "        text-align: right;\n",
       "    }\n",
       "</style>\n",
       "<table border=\"1\" class=\"dataframe\">\n",
       "  <thead>\n",
       "    <tr style=\"text-align: right;\">\n",
       "      <th></th>\n",
       "      <th>Pregnancies</th>\n",
       "      <th>Glucose</th>\n",
       "      <th>Insulin</th>\n",
       "      <th>BMI</th>\n",
       "      <th>DiabetesPedigreeFunction</th>\n",
       "      <th>Age</th>\n",
       "      <th>Outcome</th>\n",
       "      <th>Insulin-win</th>\n",
       "    </tr>\n",
       "  </thead>\n",
       "  <tbody>\n",
       "    <tr>\n",
       "      <th>0</th>\n",
       "      <td>0.639947</td>\n",
       "      <td>0.868141</td>\n",
       "      <td>-0.692891</td>\n",
       "      <td>0.212677</td>\n",
       "      <td>0.468492</td>\n",
       "      <td>1.425995</td>\n",
       "      <td>1.365896</td>\n",
       "      <td>-0.715091</td>\n",
       "    </tr>\n",
       "    <tr>\n",
       "      <th>1</th>\n",
       "      <td>-0.844885</td>\n",
       "      <td>-1.178147</td>\n",
       "      <td>-0.692891</td>\n",
       "      <td>-0.690731</td>\n",
       "      <td>-0.365061</td>\n",
       "      <td>-0.190672</td>\n",
       "      <td>-0.732120</td>\n",
       "      <td>-0.715091</td>\n",
       "    </tr>\n",
       "    <tr>\n",
       "      <th>2</th>\n",
       "      <td>1.233880</td>\n",
       "      <td>2.004968</td>\n",
       "      <td>-0.692891</td>\n",
       "      <td>-1.116623</td>\n",
       "      <td>0.604397</td>\n",
       "      <td>-0.105584</td>\n",
       "      <td>1.365896</td>\n",
       "      <td>-0.715091</td>\n",
       "    </tr>\n",
       "    <tr>\n",
       "      <th>3</th>\n",
       "      <td>-0.844885</td>\n",
       "      <td>-1.048224</td>\n",
       "      <td>0.123302</td>\n",
       "      <td>-0.497143</td>\n",
       "      <td>-0.920763</td>\n",
       "      <td>-1.041549</td>\n",
       "      <td>-0.732120</td>\n",
       "      <td>0.137787</td>\n",
       "    </tr>\n",
       "    <tr>\n",
       "      <th>4</th>\n",
       "      <td>-1.141852</td>\n",
       "      <td>0.510853</td>\n",
       "      <td>0.765836</td>\n",
       "      <td>1.438731</td>\n",
       "      <td>5.484909</td>\n",
       "      <td>-0.020496</td>\n",
       "      <td>1.365896</td>\n",
       "      <td>0.809202</td>\n",
       "    </tr>\n",
       "    <tr>\n",
       "      <th>...</th>\n",
       "      <td>...</td>\n",
       "      <td>...</td>\n",
       "      <td>...</td>\n",
       "      <td>...</td>\n",
       "      <td>...</td>\n",
       "      <td>...</td>\n",
       "      <td>...</td>\n",
       "      <td>...</td>\n",
       "    </tr>\n",
       "    <tr>\n",
       "      <th>763</th>\n",
       "      <td>1.827813</td>\n",
       "      <td>-0.658454</td>\n",
       "      <td>0.870031</td>\n",
       "      <td>0.122336</td>\n",
       "      <td>-0.908682</td>\n",
       "      <td>2.532136</td>\n",
       "      <td>-0.732120</td>\n",
       "      <td>0.918080</td>\n",
       "    </tr>\n",
       "    <tr>\n",
       "      <th>764</th>\n",
       "      <td>-0.547919</td>\n",
       "      <td>0.023642</td>\n",
       "      <td>-0.692891</td>\n",
       "      <td>0.625664</td>\n",
       "      <td>-0.398282</td>\n",
       "      <td>-0.531023</td>\n",
       "      <td>-0.732120</td>\n",
       "      <td>-0.715091</td>\n",
       "    </tr>\n",
       "    <tr>\n",
       "      <th>765</th>\n",
       "      <td>0.342981</td>\n",
       "      <td>-0.008839</td>\n",
       "      <td>0.279594</td>\n",
       "      <td>-0.742354</td>\n",
       "      <td>-0.685193</td>\n",
       "      <td>-0.275760</td>\n",
       "      <td>-0.732120</td>\n",
       "      <td>0.301104</td>\n",
       "    </tr>\n",
       "    <tr>\n",
       "      <th>766</th>\n",
       "      <td>-0.844885</td>\n",
       "      <td>0.153565</td>\n",
       "      <td>-0.692891</td>\n",
       "      <td>-0.239027</td>\n",
       "      <td>-0.371101</td>\n",
       "      <td>1.170732</td>\n",
       "      <td>1.365896</td>\n",
       "      <td>-0.715091</td>\n",
       "    </tr>\n",
       "    <tr>\n",
       "      <th>767</th>\n",
       "      <td>-0.844885</td>\n",
       "      <td>-0.918301</td>\n",
       "      <td>-0.692891</td>\n",
       "      <td>-0.200309</td>\n",
       "      <td>-0.473785</td>\n",
       "      <td>-0.871374</td>\n",
       "      <td>-0.732120</td>\n",
       "      <td>-0.715091</td>\n",
       "    </tr>\n",
       "  </tbody>\n",
       "</table>\n",
       "<p>768 rows × 8 columns</p>\n",
       "</div>"
      ],
      "text/plain": [
       "     Pregnancies   Glucose   Insulin       BMI  DiabetesPedigreeFunction  \\\n",
       "0       0.639947  0.868141 -0.692891  0.212677                  0.468492   \n",
       "1      -0.844885 -1.178147 -0.692891 -0.690731                 -0.365061   \n",
       "2       1.233880  2.004968 -0.692891 -1.116623                  0.604397   \n",
       "3      -0.844885 -1.048224  0.123302 -0.497143                 -0.920763   \n",
       "4      -1.141852  0.510853  0.765836  1.438731                  5.484909   \n",
       "..           ...       ...       ...       ...                       ...   \n",
       "763     1.827813 -0.658454  0.870031  0.122336                 -0.908682   \n",
       "764    -0.547919  0.023642 -0.692891  0.625664                 -0.398282   \n",
       "765     0.342981 -0.008839  0.279594 -0.742354                 -0.685193   \n",
       "766    -0.844885  0.153565 -0.692891 -0.239027                 -0.371101   \n",
       "767    -0.844885 -0.918301 -0.692891 -0.200309                 -0.473785   \n",
       "\n",
       "          Age   Outcome  Insulin-win  \n",
       "0    1.425995  1.365896    -0.715091  \n",
       "1   -0.190672 -0.732120    -0.715091  \n",
       "2   -0.105584  1.365896    -0.715091  \n",
       "3   -1.041549 -0.732120     0.137787  \n",
       "4   -0.020496  1.365896     0.809202  \n",
       "..        ...       ...          ...  \n",
       "763  2.532136 -0.732120     0.918080  \n",
       "764 -0.531023 -0.732120    -0.715091  \n",
       "765 -0.275760 -0.732120     0.301104  \n",
       "766  1.170732  1.365896    -0.715091  \n",
       "767 -0.871374 -0.732120    -0.715091  \n",
       "\n",
       "[768 rows x 8 columns]"
      ]
     },
     "execution_count": 120,
     "metadata": {},
     "output_type": "execute_result"
    }
   ],
   "source": [
    "# a data point with an abs value z-score > 3 is an outlier \n",
    "df_zscores = df.select_dtypes(include=['number']).apply(stats.zscore)\n",
    "df_zscores"
   ]
  },
  {
   "cell_type": "markdown",
   "metadata": {
    "id": "C-wYgEKOxDtQ"
   },
   "source": [
    "<b>Setting up the features and target label:<b>\n",
    "\n",
    "* Target Variable is 'Outcome'\n",
    "* Features: Pregnancies, Glucose, Insulin, BMI, Diabetes Pedigree Function\n",
    "\n",
    "<b>Why am I using Logistic Regression for this Diabetes Dataset?<b>\n",
    "- Logistic Regression is used for low model complexity. Making predictions in medical data sets is best with logistic regression due to the small amount of patient data."
   ]
  },
  {
   "cell_type": "code",
   "execution_count": 51,
   "metadata": {
    "id": "fquLLchR2Dxl"
   },
   "outputs": [],
   "source": [
    "list(df.columns)\n",
    "feature_list=['Pregnancies',\n",
    " 'Glucose',\n",
    " 'Insulin',\n",
    " 'BMI',\n",
    " 'DiabetesPedigreeFunction',\n",
    " 'Age']"
   ]
  },
  {
   "cell_type": "code",
   "execution_count": 52,
   "metadata": {
    "id": "NH69GNTx2Q4J"
   },
   "outputs": [],
   "source": [
    "y = df['Outcome']\n",
    "X = df[feature_list]"
   ]
  },
  {
   "cell_type": "code",
   "execution_count": 53,
   "metadata": {},
   "outputs": [
    {
     "name": "stdout",
     "output_type": "stream",
     "text": [
      "(514, 6)\n",
      "(254, 6)\n"
     ]
    }
   ],
   "source": [
    "X_train, X_test, y_train, y_test = train_test_split(X,y, test_size=0.33, random_state=1234)\n",
    "print(X_train.shape) #shape of train examples\n",
    "print(X_test.shape) #shape of test examples"
   ]
  },
  {
   "cell_type": "markdown",
   "metadata": {},
   "source": [
    "<b>Train<b>"
   ]
  },
  {
   "cell_type": "code",
   "execution_count": 97,
   "metadata": {},
   "outputs": [],
   "source": [
    "def train_test_LR(X_train, y_train, X_test, y_test, c=1):\n",
    "    model=LogisticRegression(C=c)\n",
    "    model.fit(X_train, y_train)\n",
    "    probability_predictions = model.predict_proba(X_test)\n",
    "    l_loss = log_loss(y_test, probability_predictions)\n",
    "    class_label_predictions = model.predict(X_test)\n",
    "    acc_score = accuracy_score(y_test, class_label_predictions)\n",
    "#     cm = confusion_matrix(y_test, class_label_predictions)\n",
    "    return l_loss, acc_score, probability_predictions, class_label_predictions"
   ]
  },
  {
   "cell_type": "code",
   "execution_count": 99,
   "metadata": {},
   "outputs": [
    {
     "name": "stdout",
     "output_type": "stream",
     "text": [
      "Log loss: 0.4772454524662129\n",
      "Accuracy: 0.7795275590551181\n",
      "Probability: [[0.78739775 0.21260225]\n",
      " [0.28090833 0.71909167]\n",
      " [0.69208739 0.30791261]\n",
      " [0.64748932 0.35251068]\n",
      " [0.69362347 0.30637653]\n",
      " [0.37909493 0.62090507]\n",
      " [0.64197059 0.35802941]\n",
      " [0.86448631 0.13551369]\n",
      " [0.1096558  0.8903442 ]\n",
      " [0.88069327 0.11930673]\n",
      " [0.11417485 0.88582515]\n",
      " [0.85416164 0.14583836]\n",
      " [0.57255029 0.42744971]\n",
      " [0.97988761 0.02011239]\n",
      " [0.84162679 0.15837321]\n",
      " [0.83340891 0.16659109]\n",
      " [0.25454177 0.74545823]\n",
      " [0.49418961 0.50581039]\n",
      " [0.95438835 0.04561165]\n",
      " [0.4784781  0.5215219 ]\n",
      " [0.15906073 0.84093927]\n",
      " [0.42684334 0.57315666]\n",
      " [0.86549678 0.13450322]\n",
      " [0.34950367 0.65049633]\n",
      " [0.91108217 0.08891783]\n",
      " [0.97398507 0.02601493]\n",
      " [0.99538452 0.00461548]\n",
      " [0.06598492 0.93401508]\n",
      " [0.81063609 0.18936391]\n",
      " [0.84761783 0.15238217]\n",
      " [0.92572835 0.07427165]\n",
      " [0.90111702 0.09888298]\n",
      " [0.20855924 0.79144076]\n",
      " [0.42190946 0.57809054]\n",
      " [0.2078204  0.7921796 ]\n",
      " [0.59362556 0.40637444]\n",
      " [0.84872135 0.15127865]\n",
      " [0.89011595 0.10988405]\n",
      " [0.95660462 0.04339538]\n",
      " [0.93568919 0.06431081]\n",
      " [0.91756302 0.08243698]\n",
      " [0.92530908 0.07469092]\n",
      " [0.03717065 0.96282935]\n",
      " [0.75461746 0.24538254]\n",
      " [0.54725111 0.45274889]\n",
      " [0.68359766 0.31640234]\n",
      " [0.79403414 0.20596586]\n",
      " [0.86238417 0.13761583]\n",
      " [0.95524015 0.04475985]\n",
      " [0.9191753  0.0808247 ]\n",
      " [0.29283588 0.70716412]\n",
      " [0.36892017 0.63107983]\n",
      " [0.23590112 0.76409888]\n",
      " [0.56413446 0.43586554]\n",
      " [0.61075235 0.38924765]\n",
      " [0.95010028 0.04989972]\n",
      " [0.66011434 0.33988566]\n",
      " [0.92022035 0.07977965]\n",
      " [0.8873737  0.1126263 ]\n",
      " [0.7800732  0.2199268 ]\n",
      " [0.44278357 0.55721643]\n",
      " [0.77204771 0.22795229]\n",
      " [0.89132011 0.10867989]\n",
      " [0.86224253 0.13775747]\n",
      " [0.87284306 0.12715694]\n",
      " [0.90651836 0.09348164]\n",
      " [0.77993239 0.22006761]\n",
      " [0.87162042 0.12837958]\n",
      " [0.73563903 0.26436097]\n",
      " [0.87023226 0.12976774]\n",
      " [0.14852374 0.85147626]\n",
      " [0.73024503 0.26975497]\n",
      " [0.90781765 0.09218235]\n",
      " [0.92055995 0.07944005]\n",
      " [0.73427625 0.26572375]\n",
      " [0.43263311 0.56736689]\n",
      " [0.83222549 0.16777451]\n",
      " [0.8649023  0.1350977 ]\n",
      " [0.85278136 0.14721864]\n",
      " [0.85468236 0.14531764]\n",
      " [0.78135551 0.21864449]\n",
      " [0.28349415 0.71650585]\n",
      " [0.6568507  0.3431493 ]\n",
      " [0.63143683 0.36856317]\n",
      " [0.89077955 0.10922045]\n",
      " [0.26224432 0.73775568]\n",
      " [0.68074348 0.31925652]\n",
      " [0.8721748  0.1278252 ]\n",
      " [0.70325234 0.29674766]\n",
      " [0.87993661 0.12006339]\n",
      " [0.68502751 0.31497249]\n",
      " [0.06127356 0.93872644]\n",
      " [0.89702178 0.10297822]\n",
      " [0.78439935 0.21560065]\n",
      " [0.5642315  0.4357685 ]\n",
      " [0.11586954 0.88413046]\n",
      " [0.54117681 0.45882319]\n",
      " [0.87523184 0.12476816]\n",
      " [0.76472374 0.23527626]\n",
      " [0.34531514 0.65468486]\n",
      " [0.50317928 0.49682072]\n",
      " [0.03481279 0.96518721]\n",
      " [0.9300447  0.0699553 ]\n",
      " [0.49753568 0.50246432]\n",
      " [0.92482602 0.07517398]\n",
      " [0.51500834 0.48499166]\n",
      " [0.31861251 0.68138749]\n",
      " [0.10627447 0.89372553]\n",
      " [0.32154403 0.67845597]\n",
      " [0.51155171 0.48844829]\n",
      " [0.51321382 0.48678618]\n",
      " [0.95088687 0.04911313]\n",
      " [0.83422942 0.16577058]\n",
      " [0.77461262 0.22538738]\n",
      " [0.73321164 0.26678836]\n",
      " [0.57500652 0.42499348]\n",
      " [0.48678752 0.51321248]\n",
      " [0.25677683 0.74322317]\n",
      " [0.85241201 0.14758799]\n",
      " [0.8022598  0.1977402 ]\n",
      " [0.92152427 0.07847573]\n",
      " [0.40892607 0.59107393]\n",
      " [0.11242745 0.88757255]\n",
      " [0.93080358 0.06919642]\n",
      " [0.6604994  0.3395006 ]\n",
      " [0.71149019 0.28850981]\n",
      " [0.6978848  0.3021152 ]\n",
      " [0.92278154 0.07721846]\n",
      " [0.97141461 0.02858539]\n",
      " [0.92414059 0.07585941]\n",
      " [0.69100898 0.30899102]\n",
      " [0.87397554 0.12602446]\n",
      " [0.525322   0.474678  ]\n",
      " [0.51751015 0.48248985]\n",
      " [0.75360988 0.24639012]\n",
      " [0.78547432 0.21452568]\n",
      " [0.8582533  0.1417467 ]\n",
      " [0.80241022 0.19758978]\n",
      " [0.87255245 0.12744755]\n",
      " [0.73037051 0.26962949]\n",
      " [0.85959409 0.14040591]\n",
      " [0.65950432 0.34049568]\n",
      " [0.92997418 0.07002582]\n",
      " [0.99503987 0.00496013]\n",
      " [0.7446485  0.2553515 ]\n",
      " [0.68777876 0.31222124]\n",
      " [0.07493938 0.92506062]\n",
      " [0.59896062 0.40103938]\n",
      " [0.64636275 0.35363725]\n",
      " [0.94685239 0.05314761]\n",
      " [0.13325607 0.86674393]\n",
      " [0.66895605 0.33104395]\n",
      " [0.75253977 0.24746023]\n",
      " [0.03324897 0.96675103]\n",
      " [0.89213215 0.10786785]\n",
      " [0.29486518 0.70513482]\n",
      " [0.12578645 0.87421355]\n",
      " [0.81872766 0.18127234]\n",
      " [0.88583281 0.11416719]\n",
      " [0.43496838 0.56503162]\n",
      " [0.36394014 0.63605986]\n",
      " [0.48960138 0.51039862]\n",
      " [0.89648116 0.10351884]\n",
      " [0.14927656 0.85072344]\n",
      " [0.32257902 0.67742098]\n",
      " [0.27133443 0.72866557]\n",
      " [0.83920487 0.16079513]\n",
      " [0.50352571 0.49647429]\n",
      " [0.79481729 0.20518271]\n",
      " [0.50758215 0.49241785]\n",
      " [0.89966956 0.10033044]\n",
      " [0.69321414 0.30678586]\n",
      " [0.690269   0.309731  ]\n",
      " [0.78736321 0.21263679]\n",
      " [0.89112278 0.10887722]\n",
      " [0.81001114 0.18998886]\n",
      " [0.96645843 0.03354157]\n",
      " [0.7344241  0.2655759 ]\n",
      " [0.66845853 0.33154147]\n",
      " [0.78734034 0.21265966]\n",
      " [0.93497091 0.06502909]\n",
      " [0.92275141 0.07724859]\n",
      " [0.24012669 0.75987331]\n",
      " [0.09176937 0.90823063]\n",
      " [0.93360447 0.06639553]\n",
      " [0.95759175 0.04240825]\n",
      " [0.77329664 0.22670336]\n",
      " [0.8087619  0.1912381 ]\n",
      " [0.51789324 0.48210676]\n",
      " [0.58761681 0.41238319]\n",
      " [0.93919657 0.06080343]\n",
      " [0.76342233 0.23657767]\n",
      " [0.3482464  0.6517536 ]\n",
      " [0.76595897 0.23404103]\n",
      " [0.74583247 0.25416753]\n",
      " [0.78689289 0.21310711]\n",
      " [0.75587946 0.24412054]\n",
      " [0.81640625 0.18359375]\n",
      " [0.98049782 0.01950218]\n",
      " [0.92595046 0.07404954]\n",
      " [0.94366829 0.05633171]\n",
      " [0.88672499 0.11327501]\n",
      " [0.81736261 0.18263739]\n",
      " [0.82252081 0.17747919]\n",
      " [0.25387587 0.74612413]\n",
      " [0.92395806 0.07604194]\n",
      " [0.59200297 0.40799703]\n",
      " [0.70089605 0.29910395]\n",
      " [0.91250889 0.08749111]\n",
      " [0.92547784 0.07452216]\n",
      " [0.86718823 0.13281177]\n",
      " [0.32652789 0.67347211]\n",
      " [0.96640909 0.03359091]\n",
      " [0.16479822 0.83520178]\n",
      " [0.17642509 0.82357491]\n",
      " [0.73103111 0.26896889]\n",
      " [0.75512045 0.24487955]\n",
      " [0.55767044 0.44232956]\n",
      " [0.76313638 0.23686362]\n",
      " [0.77445601 0.22554399]\n",
      " [0.92036605 0.07963395]\n",
      " [0.65993992 0.34006008]\n",
      " [0.97529013 0.02470987]\n",
      " [0.64460253 0.35539747]\n",
      " [0.81314169 0.18685831]\n",
      " [0.90373577 0.09626423]\n",
      " [0.42383471 0.57616529]\n",
      " [0.88002847 0.11997153]\n",
      " [0.28300725 0.71699275]\n",
      " [0.53873186 0.46126814]\n",
      " [0.83192471 0.16807529]\n",
      " [0.91002137 0.08997863]\n",
      " [0.58930129 0.41069871]\n",
      " [0.83195213 0.16804787]\n",
      " [0.71323502 0.28676498]\n",
      " [0.06550716 0.93449284]\n",
      " [0.17349965 0.82650035]\n",
      " [0.68347987 0.31652013]\n",
      " [0.94789201 0.05210799]\n",
      " [0.44660062 0.55339938]\n",
      " [0.5819886  0.4180114 ]\n",
      " [0.45341103 0.54658897]\n",
      " [0.65504253 0.34495747]\n",
      " [0.81797014 0.18202986]\n",
      " [0.4765782  0.5234218 ]\n",
      " [0.8761356  0.1238644 ]\n",
      " [0.66033987 0.33966013]\n",
      " [0.6705641  0.3294359 ]\n",
      " [0.6511744  0.3488256 ]\n",
      " [0.77270013 0.22729987]\n",
      " [0.98510608 0.01489392]\n",
      " [0.66668292 0.33331708]\n",
      " [0.83705635 0.16294365]\n",
      " [0.88054163 0.11945837]]\n",
      "Class Label Predict: [0 1 0 0 0 1 0 0 1 0 1 0 0 0 0 0 1 1 0 1 1 1 0 1 0 0 0 1 0 0 0 0 1 1 1 0 0\n",
      " 0 0 0 0 0 1 0 0 0 0 0 0 0 1 1 1 0 0 0 0 0 0 0 1 0 0 0 0 0 0 0 0 0 1 0 0 0\n",
      " 0 1 0 0 0 0 0 1 0 0 0 1 0 0 0 0 0 1 0 0 0 1 0 0 0 1 0 1 0 1 0 0 1 1 1 0 0\n",
      " 0 0 0 0 0 1 1 0 0 0 1 1 0 0 0 0 0 0 0 0 0 0 0 0 0 0 0 0 0 0 0 0 0 0 0 1 0\n",
      " 0 0 1 0 0 1 0 1 1 0 0 1 1 1 0 1 1 1 0 0 0 0 0 0 0 0 0 0 0 0 0 0 0 0 1 1 0\n",
      " 0 0 0 0 0 0 0 1 0 0 0 0 0 0 0 0 0 0 0 1 0 0 0 0 0 0 1 0 1 1 0 0 0 0 0 0 0\n",
      " 0 0 0 0 1 0 1 0 0 0 0 0 0 1 1 0 0 1 0 1 0 0 1 0 0 0 0 0 0 0 0 0]\n"
     ]
    }
   ],
   "source": [
    "loss, acc, probability_predictions, class_label_predictions = train_test_LR(X_train, y_train, X_test, y_test)\n",
    "print('Log loss: ' + str(loss))\n",
    "print('Accuracy: ' + str(acc))\n",
    "print('Probability: ' + str(probability_predictions)) #continuous value \n",
    "print('Class Label Predict: ' + str(class_label_predictions)) #puts a threshold on the continuous value"
   ]
  },
  {
   "cell_type": "markdown",
   "metadata": {},
   "source": [
    "<b>Train on Different Hyperparameter Values<b>\n",
    "    \n",
    "<i>Smaller C regularization values are best for specify stronger regularization and a simpler model<br>Since this dataset has < 1000 examples then it is a smaller dataset and should have smaller C values<i>"
   ]
  },
  {
   "cell_type": "code",
   "execution_count": 100,
   "metadata": {},
   "outputs": [
    {
     "data": {
      "text/plain": [
       "[1e-10,\n",
       " 1e-09,\n",
       " 1e-08,\n",
       " 1e-07,\n",
       " 1e-06,\n",
       " 1e-05,\n",
       " 0.0001,\n",
       " 0.001,\n",
       " 0.01,\n",
       " 0.1,\n",
       " 1,\n",
       " 10,\n",
       " 100,\n",
       " 1000,\n",
       " 10000]"
      ]
     },
     "execution_count": 100,
     "metadata": {},
     "output_type": "execute_result"
    }
   ],
   "source": [
    "cs = [10**i for i in range(-10,5)]\n",
    "cs"
   ]
  },
  {
   "cell_type": "code",
   "execution_count": 103,
   "metadata": {},
   "outputs": [
    {
     "name": "stdout",
     "output_type": "stream",
     "text": [
      "c of 1e-10:\n",
      "log loss of 0.6502230427689148\n",
      "accuracy score of 0.6456692913385826\n",
      "c of 1e-09:\n",
      "log loss of 0.6501768199088785\n",
      "accuracy score of 0.6456692913385826\n",
      "c of 1e-08:\n",
      "log loss of 0.6497212949749583\n",
      "accuracy score of 0.6456692913385826\n",
      "c of 1e-07:\n",
      "log loss of 0.6457280175682932\n",
      "accuracy score of 0.6456692913385826\n",
      "c of 1e-06:\n",
      "log loss of 0.6240484431206582\n",
      "accuracy score of 0.65748031496063\n",
      "c of 1e-05:\n",
      "log loss of 0.554893016731768\n",
      "accuracy score of 0.7047244094488189\n",
      "c of 0.0001:\n",
      "log loss of 0.5015851892350993\n",
      "accuracy score of 0.7362204724409449\n",
      "c of 0.001:\n",
      "log loss of 0.4806149822039102\n",
      "accuracy score of 0.7480314960629921\n",
      "c of 0.01:\n",
      "log loss of 0.47741390935452194\n",
      "accuracy score of 0.7677165354330708\n",
      "c of 0.1:\n",
      "log loss of 0.47527986346978307\n",
      "accuracy score of 0.7755905511811023\n",
      "c of 1:\n",
      "log loss of 0.4772454524662129\n",
      "accuracy score of 0.7795275590551181\n",
      "c of 10:\n",
      "log loss of 0.47868606895416527\n",
      "accuracy score of 0.7755905511811023\n",
      "c of 100:\n",
      "log loss of 0.4788809522102201\n",
      "accuracy score of 0.7755905511811023\n",
      "c of 1000:\n",
      "log loss of 0.4788989260850019\n",
      "accuracy score of 0.7755905511811023\n",
      "c of 10000:\n",
      "log loss of 0.47890213422016886\n",
      "accuracy score of 0.7755905511811023\n"
     ]
    },
    {
     "data": {
      "image/png": "[encoded data removed]",
      "text/plain": [
       "<Figure size 640x480 with 1 Axes>"
      ]
     },
     "metadata": {},
     "output_type": "display_data"
    }
   ],
   "source": [
    "ll_cs = []\n",
    "acc_cs = []\n",
    "for c in cs:\n",
    "    ll, acc,prob,class_label= train_test_LR(X_train, y_train, X_test, y_test, c)\n",
    "    print('c of {0}:\\nlog loss of {1}\\naccuracy score of {2}'.format(c, ll,acc))\n",
    "    ll_cs.append(ll)\n",
    "    acc_cs.append(acc)\n",
    "\n",
    "#visualize this\n",
    "cs_log10 = np.log10(cs)\n",
    "\n",
    "fig = plt.figure()\n",
    "ax = fig.add_subplot(111)\n",
    "sns.lineplot(x=cs_log10, y=ll_cs, marker='o')\n",
    "plt.title('Log Loss Test Performance by Regularization Weight C')\n",
    "ax.set_xlabel('Regularization HyperParameter: C')\n",
    "ax.set_ylabel('Log Loss')\n",
    "plt.show()"
   ]
  },
  {
   "cell_type": "markdown",
   "metadata": {},
   "source": [
    "<b>Analysis<b>\n",
    "- C=1 has the highest accuracy, but C=0.1 has lower log loss = more accurate probabilistic predictions \n",
    "\n",
    "- C=1\n",
    "- Log loss: 0.4855\n",
    "- Accuracy: 0.7795\n",
    "    "
   ]
  },
  {
   "cell_type": "markdown",
   "metadata": {},
   "source": [
    "<h2>CONFUSION MATRIX</h2>\n",
    "\n",
    "<p>\n",
    "    <li>ANALYSIS ON FALSE NEGATIVE\n",
    "    -> false negative is when you state that a patient does NOT have diabetes but they actually do\n",
    "    <li>Recall: the binary classification when false negatives are worse than false positives\n",
    "    <li>The confusion matrix should be computed between y_test (true labels) and the predictions made by the model on X_test.\n",
    "<p>\n",
    "    "
   ]
  },
  {
   "cell_type": "code",
   "execution_count": 115,
   "metadata": {
    "scrolled": true
   },
   "outputs": [
    {
     "name": "stdout",
     "output_type": "stream",
     "text": [
      "Accuracy Score: 0.7795275590551181\n",
      "\n",
      "Confusion Matrix: \n"
     ]
    },
    {
     "data": {
      "image/png": "[encoded data removed]",
      "text/plain": [
       "<Figure size 1000x700 with 2 Axes>"
      ]
     },
     "metadata": {},
     "output_type": "display_data"
    },
    {
     "name": "stdout",
     "output_type": "stream",
     "text": [
      "For C = 1: \n",
      " Number of false negatives = 13\n"
     ]
    }
   ],
   "source": [
    "from sklearn.metrics import confusion_matrix, classification_report\n",
    "\n",
    "#get class label prediction from train method\n",
    "loss, acc, probability_predictions, class_label_predictions = train_test_LR(X_train, y_train, X_test, y_test)\n",
    "#print(class_label_predictions)\n",
    "\n",
    "acc_score = accuracy_score(y_test, class_label_predictions)\n",
    "print('Accuracy Score: {0}\\n'.format(acc_score))\n",
    "print('Confusion Matrix: ')\n",
    "c_m = confusion_matrix(y_test, class_label_predictions, labels=[True, False])\n",
    "pd.DataFrame(\n",
    "    c_m, \n",
    "    columns=['Predicted: Patient Does Not Have Diabetes', 'Predicted: Patient Has Diabetes'], \n",
    "    index=['Actual: Patient Does Not Have Diabetes', 'Actual: Patient Has Diabetes']\n",
    ")\n",
    "\n",
    "plt.figure(figsize=(10, 7))\n",
    "sns.heatmap(c_m, annot=True, fmt=\"d\", cmap=\"Blues\")\n",
    "plt.title('Confusion Matrix for Logistic Regression with C={0}'.format(c))\n",
    "plt.ylabel('Actual')\n",
    "plt.xlabel('Predicted')\n",
    "plt.show()\n",
    "\n",
    "# Extracting and printing the number of false negatives\n",
    "c=1\n",
    "false_negatives = c_m[1, 0]\n",
    "print(f'For C = {c}: \\n Number of false negatives = {false_negatives}')"
   ]
  },
  {
   "cell_type": "markdown",
   "metadata": {},
   "source": [
    "<h3>Final Changes I Made</h3>\n",
    "<p>\n",
    "    <li>Deleted the younger and older than 30 proportion\n",
    "    <li>Winsorized Glucose and BMI\n",
    "    <li>Added a Confusion Matrix to check False Negatives\n",
    "<p>\n",
    "                         "
   ]
  }
 ],
 "metadata": {
  "accelerator": "GPU",
  "colab": {
   "gpuType": "T4",
   "provenance": []
  },
  "kernelspec": {
   "display_name": "Python 3 (ipykernel)",
   "language": "python",
   "name": "python3"
  },
  "language_info": {
   "codemirror_mode": {
    "name": "ipython",
    "version": 3
   },
   "file_extension": ".py",
   "mimetype": "text/x-python",
   "name": "python",
   "nbconvert_exporter": "python",
   "pygments_lexer": "ipython3",
   "version": "3.11.5"
  }
 },
 "nbformat": 4,
 "nbformat_minor": 1
}
